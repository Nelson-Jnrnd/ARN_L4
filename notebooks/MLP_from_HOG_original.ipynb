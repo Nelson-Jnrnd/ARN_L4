{
 "cells": [
  {
   "cell_type": "markdown",
   "metadata": {
    "id": "X_wPegydbafH"
   },
   "source": [
    "# Computing features to train a MLP\n",
    "This notebook will guide you through the use of the `keras` package to train a multilayer perceptron for handwritten digits classification. You are going to computing the histogram of gradients from the images in the `mnist` dataset (LeCun et al. 1998)"
   ]
  },
  {
   "cell_type": "markdown",
   "metadata": {
    "id": "61oGWRyMbafJ"
   },
   "source": [
    "## Loading the packages"
   ]
  },
  {
   "cell_type": "code",
   "execution_count": 1,
   "metadata": {
    "id": "duI9Ar-8bafS"
   },
   "outputs": [
    {
     "name": "stdout",
     "output_type": "stream",
     "text": [
      "Requirement already satisfied: tensorflow in c:\\users\\teges\\miniconda3\\lib\\site-packages (2.8.0)\n",
      "Requirement already satisfied: setuptools in c:\\users\\teges\\miniconda3\\lib\\site-packages (from tensorflow) (52.0.0.post20210125)\n",
      "Requirement already satisfied: absl-py>=0.4.0 in c:\\users\\teges\\miniconda3\\lib\\site-packages (from tensorflow) (1.0.0)\n",
      "Requirement already satisfied: grpcio<2.0,>=1.24.3 in c:\\users\\teges\\miniconda3\\lib\\site-packages (from tensorflow) (1.46.0)\n",
      "Requirement already satisfied: wrapt>=1.11.0 in c:\\users\\teges\\miniconda3\\lib\\site-packages (from tensorflow) (1.14.1)\n",
      "Requirement already satisfied: tensorflow-io-gcs-filesystem>=0.23.1 in c:\\users\\teges\\miniconda3\\lib\\site-packages (from tensorflow) (0.25.0)\n",
      "Requirement already satisfied: tf-estimator-nightly==2.8.0.dev2021122109 in c:\\users\\teges\\miniconda3\\lib\\site-packages (from tensorflow) (2.8.0.dev2021122109)\n",
      "Requirement already satisfied: protobuf>=3.9.2 in c:\\users\\teges\\miniconda3\\lib\\site-packages (from tensorflow) (3.20.1)\n",
      "Requirement already satisfied: numpy>=1.20 in c:\\users\\teges\\miniconda3\\lib\\site-packages (from tensorflow) (1.22.2)\n",
      "Requirement already satisfied: opt-einsum>=2.3.2 in c:\\users\\teges\\miniconda3\\lib\\site-packages (from tensorflow) (3.3.0)\n",
      "Requirement already satisfied: flatbuffers>=1.12 in c:\\users\\teges\\miniconda3\\lib\\site-packages (from tensorflow) (2.0)\n",
      "Requirement already satisfied: google-pasta>=0.1.1 in c:\\users\\teges\\miniconda3\\lib\\site-packages (from tensorflow) (0.2.0)\n",
      "Requirement already satisfied: tensorboard<2.9,>=2.8 in c:\\users\\teges\\miniconda3\\lib\\site-packages (from tensorflow) (2.8.0)\n",
      "Requirement already satisfied: h5py>=2.9.0 in c:\\users\\teges\\miniconda3\\lib\\site-packages (from tensorflow) (3.6.0)\n",
      "Requirement already satisfied: keras<2.9,>=2.8.0rc0 in c:\\users\\teges\\miniconda3\\lib\\site-packages (from tensorflow) (2.8.0)\n",
      "Requirement already satisfied: six>=1.12.0 in c:\\users\\teges\\miniconda3\\lib\\site-packages (from tensorflow) (1.15.0)\n",
      "Requirement already satisfied: keras-preprocessing>=1.1.1 in c:\\users\\teges\\miniconda3\\lib\\site-packages (from tensorflow) (1.1.2)\n",
      "Requirement already satisfied: libclang>=9.0.1 in c:\\users\\teges\\miniconda3\\lib\\site-packages (from tensorflow) (14.0.1)\n",
      "Requirement already satisfied: astunparse>=1.6.0 in c:\\users\\teges\\miniconda3\\lib\\site-packages (from tensorflow) (1.6.3)\n",
      "Requirement already satisfied: termcolor>=1.1.0 in c:\\users\\teges\\miniconda3\\lib\\site-packages (from tensorflow) (1.1.0)\n",
      "Requirement already satisfied: gast>=0.2.1 in c:\\users\\teges\\miniconda3\\lib\\site-packages (from tensorflow) (0.5.3)\n",
      "Requirement already satisfied: typing-extensions>=3.6.6 in c:\\users\\teges\\miniconda3\\lib\\site-packages (from tensorflow) (4.1.1)\n",
      "Requirement already satisfied: wheel<1.0,>=0.23.0 in c:\\users\\teges\\miniconda3\\lib\\site-packages (from astunparse>=1.6.0->tensorflow) (0.36.2)\n",
      "Requirement already satisfied: tensorboard-data-server<0.7.0,>=0.6.0 in c:\\users\\teges\\miniconda3\\lib\\site-packages (from tensorboard<2.9,>=2.8->tensorflow) (0.6.1)\n",
      "Requirement already satisfied: markdown>=2.6.8 in c:\\users\\teges\\miniconda3\\lib\\site-packages (from tensorboard<2.9,>=2.8->tensorflow) (3.3.7)\n",
      "Requirement already satisfied: google-auth-oauthlib<0.5,>=0.4.1 in c:\\users\\teges\\miniconda3\\lib\\site-packages (from tensorboard<2.9,>=2.8->tensorflow) (0.4.6)\n",
      "Requirement already satisfied: requests<3,>=2.21.0 in c:\\users\\teges\\miniconda3\\lib\\site-packages (from tensorboard<2.9,>=2.8->tensorflow) (2.25.1)\n",
      "Requirement already satisfied: werkzeug>=0.11.15 in c:\\users\\teges\\miniconda3\\lib\\site-packages (from tensorboard<2.9,>=2.8->tensorflow) (2.1.2)\n",
      "Requirement already satisfied: tensorboard-plugin-wit>=1.6.0 in c:\\users\\teges\\miniconda3\\lib\\site-packages (from tensorboard<2.9,>=2.8->tensorflow) (1.8.1)\n",
      "Requirement already satisfied: google-auth<3,>=1.6.3 in c:\\users\\teges\\miniconda3\\lib\\site-packages (from tensorboard<2.9,>=2.8->tensorflow) (2.6.6)\n",
      "Requirement already satisfied: rsa<5,>=3.1.4 in c:\\users\\teges\\miniconda3\\lib\\site-packages (from google-auth<3,>=1.6.3->tensorboard<2.9,>=2.8->tensorflow) (4.8)\n",
      "Requirement already satisfied: cachetools<6.0,>=2.0.0 in c:\\users\\teges\\miniconda3\\lib\\site-packages (from google-auth<3,>=1.6.3->tensorboard<2.9,>=2.8->tensorflow) (5.0.0)\n",
      "Requirement already satisfied: pyasn1-modules>=0.2.1 in c:\\users\\teges\\miniconda3\\lib\\site-packages (from google-auth<3,>=1.6.3->tensorboard<2.9,>=2.8->tensorflow) (0.2.8)Note: you may need to restart the kernel to use updated packages.\n",
      "Requirement already satisfied: requests-oauthlib>=0.7.0 in c:\\users\\teges\\miniconda3\\lib\\site-packages (from google-auth-oauthlib<0.5,>=0.4.1->tensorboard<2.9,>=2.8->tensorflow) (1.3.1)\n",
      "Requirement already satisfied: importlib-metadata>=4.4 in c:\\users\\teges\\miniconda3\\lib\\site-packages (from markdown>=2.6.8->tensorboard<2.9,>=2.8->tensorflow) (4.11.3)\n",
      "Requirement already satisfied: zipp>=0.5 in c:\\users\\teges\\miniconda3\\lib\\site-packages (from importlib-metadata>=4.4->markdown>=2.6.8->tensorboard<2.9,>=2.8->tensorflow) (3.7.0)\n",
      "Requirement already satisfied: pyasn1<0.5.0,>=0.4.6 in c:\\users\\teges\\miniconda3\\lib\\site-packages (from pyasn1-modules>=0.2.1->google-auth<3,>=1.6.3->tensorboard<2.9,>=2.8->tensorflow) (0.4.8)\n",
      "Requirement already satisfied: certifi>=2017.4.17 in c:\\users\\teges\\miniconda3\\lib\\site-packages (from requests<3,>=2.21.0->tensorboard<2.9,>=2.8->tensorflow) (2021.10.8)\n",
      "Requirement already satisfied: urllib3<1.27,>=1.21.1 in c:\\users\\teges\\miniconda3\\lib\\site-packages (from requests<3,>=2.21.0->tensorboard<2.9,>=2.8->tensorflow) (1.26.3)\n",
      "Requirement already satisfied: chardet<5,>=3.0.2 in c:\\users\\teges\\miniconda3\\lib\\site-packages (from requests<3,>=2.21.0->tensorboard<2.9,>=2.8->tensorflow) (4.0.0)\n",
      "Requirement already satisfied: idna<3,>=2.5 in c:\\users\\teges\\miniconda3\\lib\\site-packages (from requests<3,>=2.21.0->tensorboard<2.9,>=2.8->tensorflow) (2.10)\n",
      "Requirement already satisfied: oauthlib>=3.0.0 in c:\\users\\teges\\miniconda3\\lib\\site-packages (from requests-oauthlib>=0.7.0->google-auth-oauthlib<0.5,>=0.4.1->tensorboard<2.9,>=2.8->tensorflow) (3.2.0)\n",
      "\n",
      "Requirement already satisfied: keras in c:\\users\\teges\\miniconda3\\lib\\site-packages (2.8.0)\n",
      "Note: you may need to restart the kernel to use updated packages.\n"
     ]
    }
   ],
   "source": [
    "%pip install tensorflow --upgrade\n",
    "%pip install keras --upgrade\n",
    "\n",
    "import numpy as np\n",
    "from matplotlib import pyplot as pl\n",
    "\n",
    "from skimage.feature import hog\n",
    "from skimage import data, color, exposure\n",
    "\n",
    "from keras.datasets import mnist\n",
    "from keras.models import Sequential\n",
    "from keras.layers.core import Dense, Dropout\n",
    "from tensorflow.keras.optimizers import RMSprop\n",
    "from keras.utils import np_utils\n",
    "from sklearn import metrics as me\n",
    "\n",
    "%matplotlib inline"
   ]
  },
  {
   "cell_type": "markdown",
   "metadata": {
    "id": "KpPmUqiRbafz"
   },
   "source": [
    "Load the `mnist` dataset and normalize in the range [0, 1]"
   ]
  },
  {
   "cell_type": "code",
   "execution_count": 2,
   "metadata": {
    "colab": {
     "base_uri": "https://localhost:8080/",
     "height": 51
    },
    "id": "verKKFaFbaf6",
    "outputId": "29e842da-35fa-49b6-a7f7-f35d9e8a71b9"
   },
   "outputs": [
    {
     "name": "stdout",
     "output_type": "stream",
     "text": [
      "60000 train samples\n",
      "10000 test samples\n"
     ]
    }
   ],
   "source": [
    "(X_train, y_train), (X_test, y_test) = mnist.load_data()\n",
    "\n",
    "n_train, height, width = X_train.shape\n",
    "n_test, _, _ = X_test.shape\n",
    "\n",
    "X_train = X_train.reshape(n_train, height, width, 1).astype('float32')\n",
    "X_test = X_test.reshape(n_test, height, width, 1).astype('float32')\n",
    "\n",
    "X_train /= 255.0\n",
    "X_test /= 255.0\n",
    "\n",
    "n_classes = 10\n",
    "\n",
    "print(n_train, 'train samples')\n",
    "print(n_test, 'test samples')\n",
    "\n",
    "# convert class vectors to binary class matrices\n",
    "Y_train = np_utils.to_categorical(y_train, n_classes)\n",
    "Y_test = np_utils.to_categorical(y_test, n_classes)"
   ]
  },
  {
   "cell_type": "markdown",
   "metadata": {
    "id": "TazeB7LLbagE"
   },
   "source": [
    "### An example of how to compute the histogram of gradients\n",
    "Let's compute the HOG for one image in the test dataset"
   ]
  },
  {
   "cell_type": "code",
   "execution_count": 37,
   "metadata": {
    "id": "cL-609oKbagI"
   },
   "outputs": [
    {
     "data": {
      "text/plain": [
       "392"
      ]
     },
     "execution_count": 37,
     "metadata": {},
     "output_type": "execute_result"
    }
   ],
   "source": [
    "n_orientations = 8\n",
    "pix_p_cell = 4\n",
    "hog_size = int(height * width * n_orientations / (pix_p_cell * pix_p_cell))\n",
    "hog_size\n"
   ]
  },
  {
   "cell_type": "code",
   "execution_count": 22,
   "metadata": {
    "id": "r2DA2Da_bage"
   },
   "outputs": [],
   "source": [
    "fd, hog_image = hog(X_test[0,:,:,0], orientations=n_orientations, pixels_per_cell=(pix_p_cell, pix_p_cell), cells_per_block=(1, 1), visualize=True)\n",
    "hog_image_rescaled = exposure.rescale_intensity(hog_image, in_range=(0, 0.02))"
   ]
  },
  {
   "cell_type": "markdown",
   "metadata": {
    "id": "s2Ow4uJtbago"
   },
   "source": [
    "Show the image and the corresponding gradients"
   ]
  },
  {
   "cell_type": "code",
   "execution_count": 23,
   "metadata": {
    "colab": {
     "base_uri": "https://localhost:8080/",
     "height": 351
    },
    "id": "83RZeljKbagu",
    "outputId": "e1507d91-5cd9-484c-e0bc-0673b046a274"
   },
   "outputs": [
    {
     "data": {
      "image/png": "[encoded data removed]",
      "text/plain": [
       "<Figure size 864x432 with 2 Axes>"
      ]
     },
     "metadata": {
      "needs_background": "light"
     },
     "output_type": "display_data"
    }
   ],
   "source": [
    "fig, (ax1, ax2) = pl.subplots(1, 2, figsize=(12, 6), sharex=True, sharey=True)\n",
    "ax1.axis('off')\n",
    "ax1.imshow(X_test[0,:,:,0], cmap=pl.get_cmap('Greys'), interpolation='nearest')\n",
    "ax1.set_title('Input image')\n",
    "ax1.set_adjustable('box')\n",
    "\n",
    "ax2.axis('off')\n",
    "ax2.imshow(hog_image_rescaled, cmap=pl.get_cmap('Greys'), interpolation='nearest')\n",
    "ax2.set_title('Histogram of Oriented Gradients')\n",
    "ax1.set_adjustable('box')"
   ]
  },
  {
   "cell_type": "markdown",
   "metadata": {
    "id": "3Yv-ep9ybag4"
   },
   "source": [
    "Compute the HOGs for the train and test datasets\n",
    "\n",
    "> Indented block\n",
    "\n"
   ]
  },
  {
   "cell_type": "code",
   "execution_count": 6,
   "metadata": {
    "colab": {
     "base_uri": "https://localhost:8080/",
     "height": 51
    },
    "id": "y8Q3cdrebag6",
    "outputId": "4c21e6ce-56d2-4287-eab6-634cda1ad94b"
   },
   "outputs": [
    {
     "name": "stdout",
     "output_type": "stream",
     "text": [
      "X_train done\n",
      "X_test done\n"
     ]
    }
   ],
   "source": [
    "X_train_hog = np.zeros((X_train.shape[0], hog_size))\n",
    "X_test_hog = np.zeros((X_test.shape[0], hog_size))\n",
    "\n",
    "for i in np.arange(X_train_hog.shape[0]):\n",
    "    X_train_hog[i,:] = hog(X_train[i,:,:,0], orientations=n_orientations, pixels_per_cell=(pix_p_cell, pix_p_cell), cells_per_block=(1, 1), visualize=False)\n",
    "print('X_train done')\n",
    "\n",
    "for i in np.arange(X_test_hog.shape[0]):\n",
    "    X_test_hog[i,:] = hog(X_test[i,:,:,0], orientations=n_orientations, pixels_per_cell=(pix_p_cell, pix_p_cell), cells_per_block=(1, 1), visualize=False)\n",
    "print('X_test done')"
   ]
  },
  {
   "cell_type": "markdown",
   "metadata": {
    "id": "kos0aTYmbahU"
   },
   "source": [
    "Create the MLP"
   ]
  },
  {
   "cell_type": "code",
   "execution_count": 7,
   "metadata": {
    "colab": {
     "base_uri": "https://localhost:8080/",
     "height": 221
    },
    "id": "NnawtqztbahV",
    "outputId": "c99078e7-4754-41c7-dbe9-e953931c5f6c"
   },
   "outputs": [
    {
     "name": "stdout",
     "output_type": "stream",
     "text": [
      "Model: \"sequential\"\n",
      "_________________________________________________________________\n",
      " Layer (type)                Output Shape              Param #   \n",
      "=================================================================\n",
      " dense (Dense)               (None, 200)               78600     \n",
      "                                                                 \n",
      " dropout (Dropout)           (None, 200)               0         \n",
      "                                                                 \n",
      " dense_1 (Dense)             (None, 10)                2010      \n",
      "                                                                 \n",
      "=================================================================\n",
      "Total params: 80,610\n",
      "Trainable params: 80,610\n",
      "Non-trainable params: 0\n",
      "_________________________________________________________________\n"
     ]
    }
   ],
   "source": [
    "model = Sequential()\n",
    "model.add(Dense(200, input_shape=(hog_size,), activation='relu'))\n",
    "model.add(Dropout(0.5))\n",
    "model.add(Dense(n_classes, activation='softmax'))\n",
    "\n",
    "model.summary()"
   ]
  },
  {
   "cell_type": "markdown",
   "metadata": {
    "id": "EGeviXzJbahY"
   },
   "source": [
    "Define some constants and train the MLP"
   ]
  },
  {
   "cell_type": "code",
   "execution_count": 19,
   "metadata": {
    "colab": {
     "base_uri": "https://localhost:8080/",
     "height": 374
    },
    "id": "laKFY8vcbahZ",
    "outputId": "5849045b-3563-4afb-edfa-5658aac89ec8"
   },
   "outputs": [
    {
     "name": "stdout",
     "output_type": "stream",
     "text": [
      "Epoch 1/5\n",
      "469/469 [==============================] - 6s 10ms/step - loss: 0.0456 - accuracy: 0.9859 - val_loss: 0.0672 - val_accuracy: 0.9828\n",
      "Epoch 2/5\n",
      "469/469 [==============================] - 4s 8ms/step - loss: 0.0433 - accuracy: 0.9871 - val_loss: 0.0663 - val_accuracy: 0.9827\n",
      "Epoch 3/5\n",
      "469/469 [==============================] - 4s 8ms/step - loss: 0.0422 - accuracy: 0.9872 - val_loss: 0.0663 - val_accuracy: 0.9836\n",
      "Epoch 4/5\n",
      "469/469 [==============================] - 4s 8ms/step - loss: 0.0423 - accuracy: 0.9875 - val_loss: 0.0688 - val_accuracy: 0.9828\n",
      "Epoch 5/5\n",
      "469/469 [==============================] - 4s 8ms/step - loss: 0.0392 - accuracy: 0.9885 - val_loss: 0.0706 - val_accuracy: 0.9830\n"
     ]
    }
   ],
   "source": [
    "batch_size = 128\n",
    "n_epoch = 5\n",
    "\n",
    "model.compile(loss='categorical_crossentropy', optimizer=RMSprop(), metrics=['accuracy'])\n",
    "history = model.fit(X_train_hog, Y_train,\n",
    "                    batch_size=batch_size, epochs=n_epoch,\n",
    "                    verbose=1, validation_data=(X_test_hog, Y_test))"
   ]
  },
  {
   "cell_type": "markdown",
   "metadata": {
    "id": "aezTZuCMbahf"
   },
   "source": [
    "Show the performance of the model"
   ]
  },
  {
   "cell_type": "code",
   "execution_count": 20,
   "metadata": {
    "colab": {
     "base_uri": "https://localhost:8080/",
     "height": 299
    },
    "id": "u6E66I52bahg",
    "outputId": "52139b93-823a-4fca-de59-a64f77f3b0ab"
   },
   "outputs": [
    {
     "name": "stdout",
     "output_type": "stream",
     "text": [
      "Test score: 0.07059226185083389\n",
      "Test accuracy: 0.9829999804496765\n"
     ]
    },
    {
     "data": {
      "image/png": "[encoded data removed]",
      "text/plain": [
       "<Figure size 432x288 with 1 Axes>"
      ]
     },
     "metadata": {
      "needs_background": "light"
     },
     "output_type": "display_data"
    }
   ],
   "source": [
    "'''pl.plot(history.history['loss'], label='Training')\n",
    "pl.plot(history.history['val_loss'], label='Testing')\n",
    "pl.legend()\n",
    "pl.grid()\n",
    "'''\n",
    "score = model.evaluate(X_test_hog, Y_test, verbose=0)\n",
    "print('Test score:', score[0])\n",
    "print('Test accuracy:', score[1])\n",
    "\n",
    "def plot_graph(history, optimName, batch_size, n_epoch, n_neurons, drop, testScore, testAccuracy,hogSize):\n",
    "    pl.clf()\n",
    "    pl.plot(history.history['loss'], label='Training')\n",
    "    pl.plot(history.history['val_loss'], label='Testing')\n",
    "    pl.ylabel('loss')\n",
    "    pl.xlabel('Number of epochs')\n",
    "    pl.suptitle(optimName+' Batch size:'+str(batch_size)+' Nb epochs:'+str(n_epoch)+' Nb neurons:'+str(n_neurons)+' Dropout:'+ ('None' if drop < 0 else str(drop)))\n",
    "    pl.legend()\n",
    "    pl.title('Test score:' + str(round(testScore,2)) + ', Test accuracy: '  + str(round(testAccuracy,2))+ ', hog size: '  + str(hogSize))\n",
    "    pl.grid()\n",
    "    pl.savefig('../outPutHOG_RMSprop/' + optimName+'_Batch_size'+str(batch_size)+' Nb_epochs'+str(n_epoch)+' Nb_neurons'+str(n_neurons)+'_Dropout_'+ ('None' if drop < 0 else str(drop))  + '.png', dpi=500)\n",
    "    \n",
    "plot_graph(history, 'RMSprop', batch_size, n_epoch,200,0.5,score[0],score[1],392)    "
   ]
  },
  {
   "cell_type": "markdown",
   "metadata": {
    "id": "axdxLHYMbahu"
   },
   "source": [
    "Confusion matrix"
   ]
  },
  {
   "cell_type": "code",
   "execution_count": null,
   "metadata": {
    "colab": {
     "base_uri": "https://localhost:8080/",
     "height": 187
    },
    "id": "Mhm1wjNfbahv",
    "outputId": "8366db2a-2162-4c03-d1d3-de0a4114c3cb"
   },
   "outputs": [
    {
     "data": {
      "text/plain": [
       "array([[ 965,    0,    1,    0,    0,    2,    6,    3,    2,    1],\n",
       "       [   2, 1123,    1,    3,    0,    1,    2,    1,    2,    0],\n",
       "       [   1,    3, 1018,    0,    2,    0,    1,    3,    4,    0],\n",
       "       [   0,    0,    3,  999,    0,    3,    0,    2,    3,    0],\n",
       "       [   0,    1,    3,    0,  972,    0,    1,    0,    3,    2],\n",
       "       [   1,    0,    0,   22,    0,  862,    5,    0,    2,    0],\n",
       "       [   3,    2,    1,    0,    3,    2,  946,    0,    1,    0],\n",
       "       [   1,    4,    7,    3,    4,    0,    0, 1002,    4,    3],\n",
       "       [   3,    0,    2,   11,    1,    1,    1,    5,  946,    4],\n",
       "       [   1,    2,    1,    9,   11,    4,    0,    6,    7,  968]])"
      ]
     },
     "execution_count": 25,
     "metadata": {
      "tags": []
     },
     "output_type": "execute_result"
    }
   ],
   "source": [
    "pred = model.predict(X_test_hog)\n",
    "pred = np.argmax(pred, axis=-1)\n",
    "me.confusion_matrix(y_test, pred)"
   ]
  }
 ],
 "metadata": {
  "accelerator": "GPU",
  "colab": {
   "collapsed_sections": [],
   "name": "MLP_from_HOG.ipynb",
   "provenance": []
  },
  "kernelspec": {
   "display_name": "Python 3 (ipykernel)",
   "language": "python",
   "name": "python3"
  },
  "language_info": {
   "codemirror_mode": {
    "name": "ipython",
    "version": 3
   },
   "file_extension": ".py",
   "mimetype": "text/x-python",
   "name": "python",
   "nbconvert_exporter": "python",
   "pygments_lexer": "ipython3",
   "version": "3.8.5"
  }
 },
 "nbformat": 4,
 "nbformat_minor": 1
}
