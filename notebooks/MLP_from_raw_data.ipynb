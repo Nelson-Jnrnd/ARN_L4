{
 "nbformat": 4,
 "nbformat_minor": 0,
 "metadata": {
  "colab": {
   "name": "MLP_from_raw_data.ipynb",
   "provenance": [],
   "collapsed_sections": []
  },
  "kernelspec": {
   "name": "python3",
   "display_name": "Python 3"
  },
  "accelerator": "GPU"
 },
 "cells": [
  {
   "cell_type": "markdown",
   "metadata": {
    "id": "Ic-cqm0tbUc3"
   },
   "source": [
    "# Multilayer Perceptron from raw data\n",
    "This notebook will guide you through the use of the `keras` package to train a multilayer perceptron for handwritten digits classification. You are going to use the `mnist` dataset from LeCun et al. 1998"
   ]
  },
  {
   "cell_type": "markdown",
   "metadata": {
    "id": "ND1Cf9lXbUc6"
   },
   "source": [
    "## Loading the packages"
   ]
  },
  {
   "cell_type": "code",
   "metadata": {
    "id": "Pvq0DhLtbUdE"
   },
   "source": [
    "%pip install tensorflow --upgrade\n",
    "%pip install keras --upgrade\n",
    "\n",
    "import numpy as np\n",
    "from matplotlib import pyplot as pl\n",
    "\n",
    "from keras.datasets import mnist\n",
    "from keras.models import Sequential\n",
    "from keras.layers.core import Dense, Dropout\n",
    "from tensorflow.keras.optimizers import RMSprop\n",
    "from tensorflow.keras.optimizers import Adam\n",
    "from tensorflow.keras.optimizers import SGD\n",
    "from tensorflow.keras.optimizers import Adadelta\n",
    "from keras.utils import np_utils\n",
    "from sklearn import metrics as me\n",
    "\n",
    "%matplotlib inline"
   ],
   "execution_count": 61,
   "outputs": [
    {
     "name": "stdout",
     "output_type": "stream",
     "text": [
      "Requirement already satisfied: tensorflow in c:\\users\\nelsonwork\\appdata\\local\\programs\\python\\python39\\lib\\site-packages (2.8.0)Note: you may need to restart the kernel to use updated packages.\n"
     ]
    },
    {
     "name": "stderr",
     "output_type": "stream",
     "text": [
      "WARNING: You are using pip version 21.2.3; however, version 22.0.4 is available.\n",
      "You should consider upgrading via the 'C:\\Users\\NelsonWork\\AppData\\Local\\Programs\\Python\\Python39\\python.exe -m pip install --upgrade pip' command.\n"
     ]
    },
    {
     "name": "stdout",
     "output_type": "stream",
     "text": [
      "\n",
      "Requirement already satisfied: astunparse>=1.6.0 in c:\\users\\nelsonwork\\appdata\\local\\programs\\python\\python39\\lib\\site-packages (from tensorflow) (1.6.3)\n",
      "Requirement already satisfied: protobuf>=3.9.2 in c:\\users\\nelsonwork\\appdata\\local\\programs\\python\\python39\\lib\\site-packages (from tensorflow) (3.20.1)\n",
      "Requirement already satisfied: google-pasta>=0.1.1 in c:\\users\\nelsonwork\\appdata\\local\\programs\\python\\python39\\lib\\site-packages (from tensorflow) (0.2.0)\n",
      "Requirement already satisfied: setuptools in c:\\users\\nelsonwork\\appdata\\local\\programs\\python\\python39\\lib\\site-packages (from tensorflow) (57.4.0)\n",
      "Requirement already satisfied: libclang>=9.0.1 in c:\\users\\nelsonwork\\appdata\\local\\programs\\python\\python39\\lib\\site-packages (from tensorflow) (14.0.1)\n",
      "Requirement already satisfied: numpy>=1.20 in c:\\users\\nelsonwork\\appdata\\local\\programs\\python\\python39\\lib\\site-packages (from tensorflow) (1.21.5)\n",
      "Requirement already satisfied: termcolor>=1.1.0 in c:\\users\\nelsonwork\\appdata\\local\\programs\\python\\python39\\lib\\site-packages (from tensorflow) (1.1.0)\n",
      "Requirement already satisfied: six>=1.12.0 in c:\\users\\nelsonwork\\appdata\\local\\programs\\python\\python39\\lib\\site-packages (from tensorflow) (1.16.0)\n",
      "Requirement already satisfied: absl-py>=0.4.0 in c:\\users\\nelsonwork\\appdata\\local\\programs\\python\\python39\\lib\\site-packages (from tensorflow) (1.0.0)\n",
      "Requirement already satisfied: tf-estimator-nightly==2.8.0.dev2021122109 in c:\\users\\nelsonwork\\appdata\\local\\programs\\python\\python39\\lib\\site-packages (from tensorflow) (2.8.0.dev2021122109)\n",
      "Requirement already satisfied: tensorflow-io-gcs-filesystem>=0.23.1 in c:\\users\\nelsonwork\\appdata\\local\\programs\\python\\python39\\lib\\site-packages (from tensorflow) (0.25.0)\n",
      "Requirement already satisfied: keras-preprocessing>=1.1.1 in c:\\users\\nelsonwork\\appdata\\local\\programs\\python\\python39\\lib\\site-packages (from tensorflow) (1.1.2)\n",
      "Requirement already satisfied: grpcio<2.0,>=1.24.3 in c:\\users\\nelsonwork\\appdata\\local\\programs\\python\\python39\\lib\\site-packages (from tensorflow) (1.44.0)\n",
      "Requirement already satisfied: opt-einsum>=2.3.2 in c:\\users\\nelsonwork\\appdata\\local\\programs\\python\\python39\\lib\\site-packages (from tensorflow) (3.3.0)\n",
      "Requirement already satisfied: tensorboard<2.9,>=2.8 in c:\\users\\nelsonwork\\appdata\\local\\programs\\python\\python39\\lib\\site-packages (from tensorflow) (2.8.0)\n",
      "Requirement already satisfied: h5py>=2.9.0 in c:\\users\\nelsonwork\\appdata\\local\\programs\\python\\python39\\lib\\site-packages (from tensorflow) (3.6.0)\n",
      "Requirement already satisfied: gast>=0.2.1 in c:\\users\\nelsonwork\\appdata\\local\\programs\\python\\python39\\lib\\site-packages (from tensorflow) (0.5.3)\n",
      "Requirement already satisfied: wrapt>=1.11.0 in c:\\users\\nelsonwork\\appdata\\local\\programs\\python\\python39\\lib\\site-packages (from tensorflow) (1.14.0)\n",
      "Requirement already satisfied: flatbuffers>=1.12 in c:\\users\\nelsonwork\\appdata\\local\\programs\\python\\python39\\lib\\site-packages (from tensorflow) (2.0)\n",
      "Requirement already satisfied: typing-extensions>=3.6.6 in c:\\users\\nelsonwork\\appdata\\local\\programs\\python\\python39\\lib\\site-packages (from tensorflow) (4.2.0)\n",
      "Requirement already satisfied: keras<2.9,>=2.8.0rc0 in c:\\users\\nelsonwork\\appdata\\local\\programs\\python\\python39\\lib\\site-packages (from tensorflow) (2.8.0)\n",
      "Requirement already satisfied: wheel<1.0,>=0.23.0 in c:\\users\\nelsonwork\\appdata\\local\\programs\\python\\python39\\lib\\site-packages (from astunparse>=1.6.0->tensorflow) (0.37.1)\n",
      "Requirement already satisfied: google-auth-oauthlib<0.5,>=0.4.1 in c:\\users\\nelsonwork\\appdata\\local\\programs\\python\\python39\\lib\\site-packages (from tensorboard<2.9,>=2.8->tensorflow) (0.4.6)\n",
      "Requirement already satisfied: werkzeug>=0.11.15 in c:\\users\\nelsonwork\\appdata\\local\\programs\\python\\python39\\lib\\site-packages (from tensorboard<2.9,>=2.8->tensorflow) (2.1.1)\n",
      "Requirement already satisfied: requests<3,>=2.21.0 in c:\\users\\nelsonwork\\appdata\\local\\programs\\python\\python39\\lib\\site-packages (from tensorboard<2.9,>=2.8->tensorflow) (2.26.0)\n",
      "Requirement already satisfied: markdown>=2.6.8 in c:\\users\\nelsonwork\\appdata\\local\\programs\\python\\python39\\lib\\site-packages (from tensorboard<2.9,>=2.8->tensorflow) (3.3.6)\n",
      "Requirement already satisfied: google-auth<3,>=1.6.3 in c:\\users\\nelsonwork\\appdata\\local\\programs\\python\\python39\\lib\\site-packages (from tensorboard<2.9,>=2.8->tensorflow) (2.6.6)\n",
      "Requirement already satisfied: tensorboard-plugin-wit>=1.6.0 in c:\\users\\nelsonwork\\appdata\\local\\programs\\python\\python39\\lib\\site-packages (from tensorboard<2.9,>=2.8->tensorflow) (1.8.1)\n",
      "Requirement already satisfied: tensorboard-data-server<0.7.0,>=0.6.0 in c:\\users\\nelsonwork\\appdata\\local\\programs\\python\\python39\\lib\\site-packages (from tensorboard<2.9,>=2.8->tensorflow) (0.6.1)\n",
      "Requirement already satisfied: cachetools<6.0,>=2.0.0 in c:\\users\\nelsonwork\\appdata\\local\\programs\\python\\python39\\lib\\site-packages (from google-auth<3,>=1.6.3->tensorboard<2.9,>=2.8->tensorflow) (5.0.0)\n",
      "Requirement already satisfied: rsa<5,>=3.1.4 in c:\\users\\nelsonwork\\appdata\\local\\programs\\python\\python39\\lib\\site-packages (from google-auth<3,>=1.6.3->tensorboard<2.9,>=2.8->tensorflow) (4.8)\n",
      "Requirement already satisfied: pyasn1-modules>=0.2.1 in c:\\users\\nelsonwork\\appdata\\local\\programs\\python\\python39\\lib\\site-packages (from google-auth<3,>=1.6.3->tensorboard<2.9,>=2.8->tensorflow) (0.2.8)\n",
      "Requirement already satisfied: requests-oauthlib>=0.7.0 in c:\\users\\nelsonwork\\appdata\\local\\programs\\python\\python39\\lib\\site-packages (from google-auth-oauthlib<0.5,>=0.4.1->tensorboard<2.9,>=2.8->tensorflow) (1.3.1)\n",
      "Requirement already satisfied: importlib-metadata>=4.4 in c:\\users\\nelsonwork\\appdata\\local\\programs\\python\\python39\\lib\\site-packages (from markdown>=2.6.8->tensorboard<2.9,>=2.8->tensorflow) (4.11.3)\n",
      "Requirement already satisfied: zipp>=0.5 in c:\\users\\nelsonwork\\appdata\\local\\programs\\python\\python39\\lib\\site-packages (from importlib-metadata>=4.4->markdown>=2.6.8->tensorboard<2.9,>=2.8->tensorflow) (3.8.0)\n",
      "Requirement already satisfied: pyasn1<0.5.0,>=0.4.6 in c:\\users\\nelsonwork\\appdata\\local\\programs\\python\\python39\\lib\\site-packages (from pyasn1-modules>=0.2.1->google-auth<3,>=1.6.3->tensorboard<2.9,>=2.8->tensorflow) (0.4.8)\n",
      "Requirement already satisfied: certifi>=2017.4.17 in c:\\users\\nelsonwork\\appdata\\local\\programs\\python\\python39\\lib\\site-packages (from requests<3,>=2.21.0->tensorboard<2.9,>=2.8->tensorflow) (2021.10.8)\n",
      "Requirement already satisfied: idna<4,>=2.5 in c:\\users\\nelsonwork\\appdata\\local\\programs\\python\\python39\\lib\\site-packages (from requests<3,>=2.21.0->tensorboard<2.9,>=2.8->tensorflow) (3.3)\n",
      "Requirement already satisfied: charset-normalizer~=2.0.0 in c:\\users\\nelsonwork\\appdata\\local\\programs\\python\\python39\\lib\\site-packages (from requests<3,>=2.21.0->tensorboard<2.9,>=2.8->tensorflow) (2.0.9)\n",
      "Requirement already satisfied: urllib3<1.27,>=1.21.1 in c:\\users\\nelsonwork\\appdata\\local\\programs\\python\\python39\\lib\\site-packages (from requests<3,>=2.21.0->tensorboard<2.9,>=2.8->tensorflow) (1.26.7)\n",
      "Requirement already satisfied: oauthlib>=3.0.0 in c:\\users\\nelsonwork\\appdata\\local\\programs\\python\\python39\\lib\\site-packages (from requests-oauthlib>=0.7.0->google-auth-oauthlib<0.5,>=0.4.1->tensorboard<2.9,>=2.8->tensorflow) (3.2.0)\n",
      "Requirement already satisfied: keras in c:\\users\\nelsonwork\\appdata\\local\\programs\\python\\python39\\lib\\site-packages (2.8.0)\n",
      "Note: you may need to restart the kernel to use updated packages.\n"
     ]
    },
    {
     "name": "stderr",
     "output_type": "stream",
     "text": [
      "WARNING: You are using pip version 21.2.3; however, version 22.0.4 is available.\n",
      "You should consider upgrading via the 'C:\\Users\\NelsonWork\\AppData\\Local\\Programs\\Python\\Python39\\python.exe -m pip install --upgrade pip' command.\n"
     ]
    }
   ]
  },
  {
   "cell_type": "markdown",
   "metadata": {
    "id": "Vy0wRnm2bUde"
   },
   "source": [
    "## Using raw data to train a MLP\n",
    "First load the `mnist` dataset and normalize it to be in the range [0, 1]"
   ]
  },
  {
   "cell_type": "code",
   "metadata": {
    "id": "8CKuJwcibUdi",
    "colab": {
     "base_uri": "https://localhost:8080/",
     "height": 51
    },
    "outputId": "62b6c3c9-af3b-4769-c557-cd6c74afcefe"
   },
   "source": [
    "(X_train, y_train), (X_test, y_test) = mnist.load_data()\n",
    "\n",
    "X_train = X_train.reshape(60000, 784)\n",
    "X_test = X_test.reshape(10000, 784)\n",
    "X_train = X_train.astype('float32')\n",
    "X_test = X_test.astype('float32')\n",
    "X_train /= 255\n",
    "X_test /= 255\n",
    "print(X_train.shape[0], 'train samples')\n",
    "print(X_test.shape[0], 'test samples')\n",
    "\n",
    "n_classes = 10\n",
    "# convert class vectors to binary class matrices\n",
    "Y_train = np_utils.to_categorical(y_train, n_classes)\n",
    "Y_test = np_utils.to_categorical(y_test, n_classes)"
   ],
   "execution_count": 62,
   "outputs": [
    {
     "name": "stdout",
     "output_type": "stream",
     "text": [
      "60000 train samples\n",
      "10000 test samples\n"
     ]
    }
   ]
  },
  {
   "cell_type": "markdown",
   "metadata": {
    "id": "01XwVeDNbUdv"
   },
   "source": [
    "Create the MLP"
   ]
  },
  {
   "cell_type": "code",
   "execution_count": 66,
   "outputs": [],
   "source": [
    "def test_hypers(neurons, drops, batch_sizes, optims, optimNames):\n",
    "    for n_neurons in neurons:\n",
    "        for drop in drops:\n",
    "            for batch_size in batch_sizes:\n",
    "                for i_o, optim in enumerate(optims):\n",
    "                    n_epoch = 20\n",
    "                    model = Sequential()\n",
    "                    model.add(Dense(n_neurons, input_shape=(784,), activation='relu'))\n",
    "                    if drop > 0:\n",
    "                        model.add(Dropout(drop))\n",
    "                    model.add(Dense(n_classes, activation='softmax'))\n",
    "                    model.compile(loss='categorical_crossentropy', optimizer=optim, metrics=['accuracy'])\n",
    "                    history = model.fit(X_train, Y_train,\n",
    "                                    batch_size=batch_size, epochs=n_epoch,\n",
    "                                    verbose=1, validation_data=(X_test, Y_test))\n",
    "                    pl.plot(history.history['loss'], label='Training')\n",
    "                    pl.plot(history.history['val_loss'], label='Testing')\n",
    "                    pl.ylabel('loss')\n",
    "                    pl.xlabel('Number of epochs')\n",
    "                    pl.title(optimNames[i_o]+' Batch size:'+str(batch_size)+' Nb epochs:'+str(n_epoch)+' Nb neurons:'+str(n_neurons)+' Dropout:'+ ('None' if drop < 0 else str(drop)))\n",
    "                    pl.legend()\n",
    "                    pl.grid()\n",
    "                    pl.savefig('../output/' + optimNames[i_o]+'_Batch_size'+str(batch_size)+' Nb_epochs'+str(n_epoch)+' Nb_neurons'+str(n_neurons)+'_Dropout_'+ ('None' if drop < 0 else str(drop)) + '.png', dpi=500)\n",
    "                    score = model.evaluate(X_test, Y_test, verbose=0)\n",
    "                    print('Test score:', score[0])\n",
    "                    print('Test accuracy:', score[1])"
   ],
   "metadata": {
    "collapsed": false,
    "pycharm": {
     "name": "#%%\n"
    }
   }
  },
  {
   "cell_type": "code",
   "execution_count": null,
   "outputs": [
    {
     "name": "stdout",
     "output_type": "stream",
     "text": [
      "Epoch 1/20\n",
      "938/938 [==============================] - 4s 3ms/step - loss: 0.9885 - accuracy: 0.6961 - val_loss: 0.6416 - val_accuracy: 0.8089\n",
      "Epoch 2/20\n",
      "938/938 [==============================] - 2s 2ms/step - loss: 0.5710 - accuracy: 0.8343 - val_loss: 0.4934 - val_accuracy: 0.8632\n",
      "Epoch 3/20\n",
      "938/938 [==============================] - 3s 3ms/step - loss: 0.4848 - accuracy: 0.8642 - val_loss: 0.4529 - val_accuracy: 0.8752\n",
      "Epoch 4/20\n",
      "938/938 [==============================] - 5s 5ms/step - loss: 0.4525 - accuracy: 0.8733 - val_loss: 0.4326 - val_accuracy: 0.8797\n",
      "Epoch 5/20\n",
      "938/938 [==============================] - 3s 3ms/step - loss: 0.4337 - accuracy: 0.8787 - val_loss: 0.4279 - val_accuracy: 0.8833\n",
      "Epoch 6/20\n",
      "938/938 [==============================] - 3s 3ms/step - loss: 0.4203 - accuracy: 0.8822 - val_loss: 0.4188 - val_accuracy: 0.8842\n",
      "Epoch 7/20\n",
      "938/938 [==============================] - 3s 3ms/step - loss: 0.4094 - accuracy: 0.8859 - val_loss: 0.4067 - val_accuracy: 0.8893\n",
      "Epoch 8/20\n",
      "938/938 [==============================] - 3s 3ms/step - loss: 0.4005 - accuracy: 0.8879 - val_loss: 0.4086 - val_accuracy: 0.8881\n",
      "Epoch 9/20\n",
      "938/938 [==============================] - 3s 3ms/step - loss: 0.3928 - accuracy: 0.8893 - val_loss: 0.3984 - val_accuracy: 0.8891\n",
      "Epoch 10/20\n",
      "938/938 [==============================] - 3s 3ms/step - loss: 0.3861 - accuracy: 0.8926 - val_loss: 0.3890 - val_accuracy: 0.8946\n",
      "Epoch 11/20\n",
      "938/938 [==============================] - 3s 3ms/step - loss: 0.3810 - accuracy: 0.8937 - val_loss: 0.3873 - val_accuracy: 0.8931\n",
      "Epoch 12/20\n",
      "938/938 [==============================] - 4s 4ms/step - loss: 0.3759 - accuracy: 0.8951 - val_loss: 0.3809 - val_accuracy: 0.8953\n",
      "Epoch 13/20\n",
      "938/938 [==============================] - 3s 3ms/step - loss: 0.3718 - accuracy: 0.8974 - val_loss: 0.3756 - val_accuracy: 0.8944\n",
      "Epoch 14/20\n",
      "938/938 [==============================] - 3s 3ms/step - loss: 0.3680 - accuracy: 0.8988 - val_loss: 0.3765 - val_accuracy: 0.8944\n",
      "Epoch 15/20\n",
      "938/938 [==============================] - 3s 3ms/step - loss: 0.3642 - accuracy: 0.8992 - val_loss: 0.3743 - val_accuracy: 0.8949\n",
      "Epoch 16/20\n",
      "938/938 [==============================] - 3s 3ms/step - loss: 0.3614 - accuracy: 0.8995 - val_loss: 0.3725 - val_accuracy: 0.8976\n",
      "Epoch 17/20\n",
      "938/938 [==============================] - 4s 4ms/step - loss: 0.3580 - accuracy: 0.9013 - val_loss: 0.3698 - val_accuracy: 0.8980\n",
      "Epoch 18/20\n",
      "938/938 [==============================] - 3s 3ms/step - loss: 0.3568 - accuracy: 0.9017 - val_loss: 0.3695 - val_accuracy: 0.8972\n",
      "Epoch 19/20\n",
      "938/938 [==============================] - 4s 4ms/step - loss: 0.3541 - accuracy: 0.9022 - val_loss: 0.3664 - val_accuracy: 0.9009\n",
      "Epoch 20/20\n",
      "938/938 [==============================] - 3s 3ms/step - loss: 0.3529 - accuracy: 0.9023 - val_loss: 0.3733 - val_accuracy: 0.8973\n",
      "Test score: 0.37331411242485046\n",
      "Test accuracy: 0.8973000049591064\n",
      "Epoch 1/20\n",
      "938/938 [==============================] - 4s 4ms/step - loss: 1.1449 - accuracy: 0.6394 - val_loss: 0.7798 - val_accuracy: 0.7689\n",
      "Epoch 2/20\n",
      "938/938 [==============================] - 3s 3ms/step - loss: 0.7398 - accuracy: 0.7803 - val_loss: 0.6820 - val_accuracy: 0.7963\n",
      "Epoch 3/20\n",
      "938/938 [==============================] - 4s 4ms/step - loss: 0.6696 - accuracy: 0.8049 - val_loss: 0.6454 - val_accuracy: 0.8139\n",
      "Epoch 4/20\n",
      "938/938 [==============================] - 4s 4ms/step - loss: 0.6269 - accuracy: 0.8206 - val_loss: 0.6117 - val_accuracy: 0.8224\n",
      "Epoch 5/20\n",
      "938/938 [==============================] - 4s 4ms/step - loss: 0.5971 - accuracy: 0.8311 - val_loss: 0.5866 - val_accuracy: 0.8349\n",
      "Epoch 6/20\n",
      "938/938 [==============================] - 4s 4ms/step - loss: 0.5748 - accuracy: 0.8383 - val_loss: 0.5769 - val_accuracy: 0.8348\n",
      "Epoch 7/20\n",
      "938/938 [==============================] - 3s 3ms/step - loss: 0.5585 - accuracy: 0.8439 - val_loss: 0.5627 - val_accuracy: 0.8433\n",
      "Epoch 8/20\n",
      "938/938 [==============================] - 3s 3ms/step - loss: 0.5456 - accuracy: 0.8479 - val_loss: 0.5511 - val_accuracy: 0.8466\n",
      "Epoch 9/20\n",
      "938/938 [==============================] - 3s 3ms/step - loss: 0.5334 - accuracy: 0.8517 - val_loss: 0.5453 - val_accuracy: 0.8477\n",
      "Epoch 10/20\n",
      "938/938 [==============================] - 2s 2ms/step - loss: 0.5234 - accuracy: 0.8544 - val_loss: 0.5374 - val_accuracy: 0.8503\n",
      "Epoch 11/20\n",
      "938/938 [==============================] - 2s 3ms/step - loss: 0.5136 - accuracy: 0.8575 - val_loss: 0.5263 - val_accuracy: 0.8528\n",
      "Epoch 12/20\n",
      "938/938 [==============================] - 4s 4ms/step - loss: 0.5030 - accuracy: 0.8601 - val_loss: 0.5152 - val_accuracy: 0.8574\n",
      "Epoch 13/20\n",
      "938/938 [==============================] - 2s 3ms/step - loss: 0.4914 - accuracy: 0.8633 - val_loss: 0.5044 - val_accuracy: 0.8605\n",
      "Epoch 14/20\n",
      "141/938 [===>..........................] - ETA: 2s - loss: 0.4931 - accuracy: 0.8631"
     ]
    }
   ],
   "source": [
    "test_hypers([5, 50, 100, 300], [-1, 0.3, 0.5], [64, 128, 256], [RMSprop(), Adam(), SGD()], ['RMSprop', 'Adam', 'SGD'])"
   ],
   "metadata": {
    "collapsed": false,
    "pycharm": {
     "name": "#%%\n",
     "is_executing": true
    }
   }
  },
  {
   "cell_type": "code",
   "metadata": {
    "id": "DNgzrBJEbUd0",
    "colab": {
     "base_uri": "https://localhost:8080/",
     "height": 221
    },
    "outputId": "f34f82a1-cd6b-474f-8186-a0c61f81a08c"
   },
   "source": [
    "n_neurons = 50\n",
    "drop = 0.5\n",
    "model = Sequential()\n",
    "model.add(Dense(n_neurons, input_shape=(784,), activation='relu'))\n",
    "if drop > 0:\n",
    "    model.add(Dropout(drop))\n",
    "model.add(Dense(n_classes, activation='softmax'))\n",
    "\n",
    "model.summary()"
   ],
   "execution_count": 55,
   "outputs": [
    {
     "name": "stdout",
     "output_type": "stream",
     "text": [
      "Model: \"sequential_11\"\n",
      "_________________________________________________________________\n",
      " Layer (type)                Output Shape              Param #   \n",
      "=================================================================\n",
      " dense_22 (Dense)            (None, 50)                39250     \n",
      "                                                                 \n",
      " dropout_5 (Dropout)         (None, 50)                0         \n",
      "                                                                 \n",
      " dense_23 (Dense)            (None, 10)                510       \n",
      "                                                                 \n",
      "=================================================================\n",
      "Total params: 39,760\n",
      "Trainable params: 39,760\n",
      "Non-trainable params: 0\n",
      "_________________________________________________________________\n"
     ]
    }
   ]
  },
  {
   "cell_type": "markdown",
   "metadata": {
    "id": "Peiq9GR2bUeN"
   },
   "source": [
    "Define some constants and train the MLP"
   ]
  },
  {
   "cell_type": "code",
   "metadata": {
    "id": "NBt-ReqIbUeR",
    "colab": {
     "base_uri": "https://localhost:8080/",
     "height": 374
    },
    "outputId": "b1e07312-0ddd-4a6c-a52d-c762dda98b1b"
   },
   "source": [
    "batch_size = 128\n",
    "n_epoch = 20\n",
    "\n",
    "model.compile(loss='categorical_crossentropy', optimizer=Adam(), metrics=['accuracy'])\n",
    "history = model.fit(X_train, Y_train,\n",
    "                    batch_size=batch_size, epochs=n_epoch,\n",
    "                    verbose=1, validation_data=(X_test, Y_test))"
   ],
   "execution_count": 56,
   "outputs": [
    {
     "name": "stdout",
     "output_type": "stream",
     "text": [
      "Epoch 1/20\n",
      "469/469 [==============================] - 3s 5ms/step - loss: 0.7197 - accuracy: 0.7794 - val_loss: 0.2767 - val_accuracy: 0.9201\n",
      "Epoch 2/20\n",
      "469/469 [==============================] - 2s 4ms/step - loss: 0.4158 - accuracy: 0.8775 - val_loss: 0.2256 - val_accuracy: 0.9357\n",
      "Epoch 3/20\n",
      "469/469 [==============================] - 3s 6ms/step - loss: 0.3638 - accuracy: 0.8936 - val_loss: 0.1957 - val_accuracy: 0.9429\n",
      "Epoch 4/20\n",
      "469/469 [==============================] - 3s 5ms/step - loss: 0.3358 - accuracy: 0.9012 - val_loss: 0.1809 - val_accuracy: 0.9460\n",
      "Epoch 5/20\n",
      "469/469 [==============================] - 3s 6ms/step - loss: 0.3158 - accuracy: 0.9067 - val_loss: 0.1709 - val_accuracy: 0.9500\n",
      "Epoch 6/20\n",
      "469/469 [==============================] - 2s 5ms/step - loss: 0.3054 - accuracy: 0.9094 - val_loss: 0.1660 - val_accuracy: 0.9508\n",
      "Epoch 7/20\n",
      "469/469 [==============================] - 2s 5ms/step - loss: 0.2964 - accuracy: 0.9123 - val_loss: 0.1568 - val_accuracy: 0.9529\n",
      "Epoch 8/20\n",
      "469/469 [==============================] - 3s 6ms/step - loss: 0.2817 - accuracy: 0.9161 - val_loss: 0.1507 - val_accuracy: 0.9556\n",
      "Epoch 9/20\n",
      "469/469 [==============================] - 3s 6ms/step - loss: 0.2758 - accuracy: 0.9172 - val_loss: 0.1486 - val_accuracy: 0.9562\n",
      "Epoch 10/20\n",
      "469/469 [==============================] - 3s 5ms/step - loss: 0.2710 - accuracy: 0.9185 - val_loss: 0.1444 - val_accuracy: 0.9581\n",
      "Epoch 11/20\n",
      "469/469 [==============================] - 2s 5ms/step - loss: 0.2605 - accuracy: 0.9209 - val_loss: 0.1410 - val_accuracy: 0.9604\n",
      "Epoch 12/20\n",
      "469/469 [==============================] - 2s 5ms/step - loss: 0.2607 - accuracy: 0.9208 - val_loss: 0.1411 - val_accuracy: 0.9597\n",
      "Epoch 13/20\n",
      "469/469 [==============================] - 2s 5ms/step - loss: 0.2548 - accuracy: 0.9218 - val_loss: 0.1394 - val_accuracy: 0.9593\n",
      "Epoch 14/20\n",
      "469/469 [==============================] - 3s 6ms/step - loss: 0.2501 - accuracy: 0.9238 - val_loss: 0.1424 - val_accuracy: 0.9599\n",
      "Epoch 15/20\n",
      "469/469 [==============================] - 2s 5ms/step - loss: 0.2502 - accuracy: 0.9229 - val_loss: 0.1367 - val_accuracy: 0.9593\n",
      "Epoch 16/20\n",
      "469/469 [==============================] - 3s 6ms/step - loss: 0.2441 - accuracy: 0.9248 - val_loss: 0.1370 - val_accuracy: 0.9613\n",
      "Epoch 17/20\n",
      "469/469 [==============================] - 2s 5ms/step - loss: 0.2423 - accuracy: 0.9245 - val_loss: 0.1379 - val_accuracy: 0.9594\n",
      "Epoch 18/20\n",
      "469/469 [==============================] - 3s 5ms/step - loss: 0.2360 - accuracy: 0.9269 - val_loss: 0.1353 - val_accuracy: 0.9626\n",
      "Epoch 19/20\n",
      "469/469 [==============================] - 2s 4ms/step - loss: 0.2374 - accuracy: 0.9270 - val_loss: 0.1342 - val_accuracy: 0.9620\n",
      "Epoch 20/20\n",
      "469/469 [==============================] - 2s 4ms/step - loss: 0.2329 - accuracy: 0.9272 - val_loss: 0.1335 - val_accuracy: 0.9628\n"
     ]
    }
   ]
  },
  {
   "cell_type": "markdown",
   "metadata": {
    "id": "7u_zpHr5bUeb"
   },
   "source": [
    "Show the performance of the model"
   ]
  },
  {
   "cell_type": "code",
   "metadata": {
    "id": "PHXi21E1bUef",
    "colab": {
     "base_uri": "https://localhost:8080/",
     "height": 299
    },
    "outputId": "b153b1ab-4795-4704-b1a3-f28d4d636043"
   },
   "source": [
    "pl.plot(history.history['loss'], label='Training')\n",
    "pl.plot(history.history['val_loss'], label='Testing')\n",
    "pl.ylabel('loss')\n",
    "pl.xlabel('Number of epochs')\n",
    "pl.title('Batch size:'+str(batch_size)+' Nb epochs:'+str(n_epoch)+' Nb neurons:'+str(n_neurons)+' Dropout:'+ ('None' if drop < 0 else str(drop)) )\n",
    "pl.legend()\n",
    "pl.grid()\n",
    "\n",
    "score = model.evaluate(X_test, Y_test, verbose=0)\n",
    "print('Test score:', score[0])\n",
    "print('Test accuracy:', score[1])"
   ],
   "execution_count": 57,
   "outputs": [
    {
     "name": "stdout",
     "output_type": "stream",
     "text": [
      "Test score: 0.13354282081127167\n",
      "Test accuracy: 0.9628000259399414\n"
     ]
    },
    {
     "data": {
      "text/plain": "<Figure size 432x288 with 1 Axes>",
      "image/png": "[encoded data removed]"
     },
     "metadata": {
      "needs_background": "light"
     },
     "output_type": "display_data"
    }
   ]
  },
  {
   "cell_type": "markdown",
   "metadata": {
    "id": "jLuFK6MobUet"
   },
   "source": [
    "Confusion matrix"
   ]
  },
  {
   "cell_type": "code",
   "metadata": {
    "id": "PAjwjjrjbUex",
    "colab": {
     "base_uri": "https://localhost:8080/",
     "height": 187
    },
    "outputId": "c96b6cf1-3bb9-4056-a6ec-0f20921828c3"
   },
   "source": [
    "pred = model.predict(X_test)\n",
    "pred = np.argmax(pred, axis=-1)\n",
    "me.confusion_matrix(y_test, pred)"
   ],
   "execution_count": 58,
   "outputs": [
    {
     "data": {
      "text/plain": "array([[ 966,    0,    2,    1,    0,    3,    5,    1,    2,    0],\n       [   0, 1113,    5,    2,    0,    0,    3,    1,   11,    0],\n       [   2,    0,  999,    4,    5,    1,    2,    9,   10,    0],\n       [   0,    0,   13,  971,    1,    7,    0,   10,    6,    2],\n       [   1,    0,    5,    0,  950,    0,   10,    2,    3,   11],\n       [   4,    1,    1,   11,    5,  846,    9,    4,    8,    3],\n       [   9,    3,    2,    1,    4,    7,  927,    0,    5,    0],\n       [   2,    8,   11,    8,    4,    0,    0,  990,    0,    5],\n       [   6,    3,    5,    8,    7,    9,    6,    8,  920,    2],\n       [   7,    8,    0,   12,   21,    5,    0,    8,    2,  946]],\n      dtype=int64)"
     },
     "execution_count": 58,
     "metadata": {},
     "output_type": "execute_result"
    }
   ]
  }
 ]
}