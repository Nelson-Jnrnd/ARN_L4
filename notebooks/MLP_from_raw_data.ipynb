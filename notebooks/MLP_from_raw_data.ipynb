{
 "cells": [
  {
   "cell_type": "markdown",
   "metadata": {
    "id": "Ic-cqm0tbUc3"
   },
   "source": [
    "# Multilayer Perceptron from raw data\n",
    "This notebook will guide you through the use of the `keras` package to train a multilayer perceptron for handwritten digits classification. You are going to use the `mnist` dataset from LeCun et al. 1998"
   ]
  },
  {
   "cell_type": "markdown",
   "metadata": {
    "id": "ND1Cf9lXbUc6"
   },
   "source": [
    "## Loading the packages"
   ]
  },
  {
   "cell_type": "code",
   "execution_count": 79,
   "metadata": {
    "id": "Pvq0DhLtbUdE"
   },
   "outputs": [
    {
     "name": "stdout",
     "output_type": "stream",
     "text": [
      "Requirement already satisfied: tensorflow in c:\\users\\teges\\miniconda3\\envs\\isd\\lib\\site-packages (2.8.0)\n",
      "Requirement already satisfied: wrapt>=1.11.0 in c:\\users\\teges\\miniconda3\\envs\\isd\\lib\\site-packages (from tensorflow) (1.14.0)\n",
      "Requirement already satisfied: protobuf>=3.9.2 in c:\\users\\teges\\miniconda3\\envs\\isd\\lib\\site-packages (from tensorflow) (3.20.1)\n",
      "Requirement already satisfied: google-pasta>=0.1.1 in c:\\users\\teges\\miniconda3\\envs\\isd\\lib\\site-packages (from tensorflow) (0.2.0)\n",
      "Requirement already satisfied: keras-preprocessing>=1.1.1 in c:\\users\\teges\\miniconda3\\envs\\isd\\lib\\site-packages (from tensorflow) (1.1.2)\n",
      "Requirement already satisfied: tensorboard<2.9,>=2.8 in c:\\users\\teges\\miniconda3\\envs\\isd\\lib\\site-packages (from tensorflow) (2.8.0)\n",
      "Requirement already satisfied: gast>=0.2.1 in c:\\users\\teges\\miniconda3\\envs\\isd\\lib\\site-packages (from tensorflow) (0.5.3)\n",
      "Requirement already satisfied: opt-einsum>=2.3.2 in c:\\users\\teges\\miniconda3\\envs\\isd\\lib\\site-packages (from tensorflow) (3.3.0)\n",
      "Requirement already satisfied: tf-estimator-nightly==2.8.0.dev2021122109 in c:\\users\\teges\\miniconda3\\envs\\isd\\lib\\site-packages (from tensorflow) (2.8.0.dev2021122109)\n",
      "Requirement already satisfied: absl-py>=0.4.0 in c:\\users\\teges\\miniconda3\\envs\\isd\\lib\\site-packages (from tensorflow) (1.0.0)\n",
      "Requirement already satisfied: termcolor>=1.1.0 in c:\\users\\teges\\miniconda3\\envs\\isd\\lib\\site-packages (from tensorflow) (1.1.0)\n",
      "Requirement already satisfied: typing-extensions>=3.6.6 in c:\\users\\teges\\miniconda3\\envs\\isd\\lib\\site-packages (from tensorflow) (4.2.0)\n",
      "Requirement already satisfied: six>=1.12.0 in c:\\users\\teges\\miniconda3\\envs\\isd\\lib\\site-packages (from tensorflow) (1.15.0)\n",
      "Requirement already satisfied: setuptools in c:\\users\\teges\\miniconda3\\envs\\isd\\lib\\site-packages (from tensorflow) (52.0.0.post20210125)\n",
      "Requirement already satisfied: astunparse>=1.6.0 in c:\\users\\teges\\miniconda3\\envs\\isd\\lib\\site-packages (from tensorflow) (1.6.3)\n",
      "Requirement already satisfied: keras<2.9,>=2.8.0rc0 in c:\\users\\teges\\miniconda3\\envs\\isd\\lib\\site-packages (from tensorflow) (2.8.0)\n",
      "Requirement already satisfied: grpcio<2.0,>=1.24.3 in c:\\users\\teges\\miniconda3\\envs\\isd\\lib\\site-packages (from tensorflow) (1.44.0)\n",
      "Requirement already satisfied: h5py>=2.9.0 in c:\\users\\teges\\miniconda3\\envs\\isd\\lib\\site-packages (from tensorflow) (3.6.0)\n",
      "Requirement already satisfied: numpy>=1.20 in c:\\users\\teges\\miniconda3\\envs\\isd\\lib\\site-packages (from tensorflow) (1.20.1)\n",
      "Requirement already satisfied: tensorflow-io-gcs-filesystem>=0.23.1 in c:\\users\\teges\\miniconda3\\envs\\isd\\lib\\site-packages (from tensorflow) (0.25.0)\n",
      "Requirement already satisfied: flatbuffers>=1.12 in c:\\users\\teges\\miniconda3\\envs\\isd\\lib\\site-packages (from tensorflow) (2.0)\n",
      "Requirement already satisfied: libclang>=9.0.1 in c:\\users\\teges\\miniconda3\\envs\\isd\\lib\\site-packages (from tensorflow) (14.0.1)\n",
      "Requirement already satisfied: wheel<1.0,>=0.23.0 in c:\\users\\teges\\miniconda3\\envs\\isd\\lib\\site-packages (from astunparse>=1.6.0->tensorflow) (0.36.2)\n",
      "Requirement already satisfied: werkzeug>=0.11.15 in c:\\users\\teges\\miniconda3\\envs\\isd\\lib\\site-packages (from tensorboard<2.9,>=2.8->tensorflow) (2.1.1)\n",
      "Requirement already satisfied: markdown>=2.6.8 in c:\\users\\teges\\miniconda3\\envs\\isd\\lib\\site-packages (from tensorboard<2.9,>=2.8->tensorflow) (3.3.6)\n",
      "Requirement already satisfied: google-auth-oauthlib<0.5,>=0.4.1 in c:\\users\\teges\\miniconda3\\envs\\isd\\lib\\site-packages (from tensorboard<2.9,>=2.8->tensorflow) (0.4.6)\n",
      "Requirement already satisfied: google-auth<3,>=1.6.3 in c:\\users\\teges\\miniconda3\\envs\\isd\\lib\\site-packages (from tensorboard<2.9,>=2.8->tensorflow) (2.6.6)\n",
      "Requirement already satisfied: tensorboard-plugin-wit>=1.6.0 in c:\\users\\teges\\miniconda3\\envs\\isd\\lib\\site-packages (from tensorboard<2.9,>=2.8->tensorflow) (1.8.1)\n",
      "Requirement already satisfied: requests<3,>=2.21.0 in c:\\users\\teges\\miniconda3\\envs\\isd\\lib\\site-packages (from tensorboard<2.9,>=2.8->tensorflow) (2.27.1)\n",
      "Requirement already satisfied: tensorboard-data-server<0.7.0,>=0.6.0 in c:\\users\\teges\\miniconda3\\envs\\isd\\lib\\site-packages (from tensorboard<2.9,>=2.8->tensorflow) (0.6.1)\n",
      "Requirement already satisfied: rsa<5,>=3.1.4 in c:\\users\\teges\\miniconda3\\envs\\isd\\lib\\site-packages (from google-auth<3,>=1.6.3->tensorboard<2.9,>=2.8->tensorflow) (4.8)\n",
      "Requirement already satisfied: pyasn1-modules>=0.2.1 in c:\\users\\teges\\miniconda3\\envs\\isd\\lib\\site-packages (from google-auth<3,>=1.6.3->tensorboard<2.9,>=2.8->tensorflow) (0.2.8)\n",
      "Requirement already satisfied: cachetools<6.0,>=2.0.0 in c:\\users\\teges\\miniconda3\\envs\\isd\\lib\\site-packages (from google-auth<3,>=1.6.3->tensorboard<2.9,>=2.8->tensorflow) (5.0.0)\n",
      "Requirement already satisfied: requests-oauthlib>=0.7.0 in c:\\users\\teges\\miniconda3\\envs\\isd\\lib\\site-packages (from google-auth-oauthlib<0.5,>=0.4.1->tensorboard<2.9,>=2.8->tensorflow) (1.3.1)\n",
      "Requirement already satisfied: importlib-metadata>=4.4 in c:\\users\\teges\\miniconda3\\envs\\isd\\lib\\site-packages (from markdown>=2.6.8->tensorboard<2.9,>=2.8->tensorflow) (4.11.3)\n",
      "Requirement already satisfied: zipp>=0.5 in c:\\users\\teges\\miniconda3\\envs\\isd\\lib\\site-packages (from importlib-metadata>=4.4->markdown>=2.6.8->tensorboard<2.9,>=2.8->tensorflow) (3.4.0)\n",
      "Requirement already satisfied: pyasn1<0.5.0,>=0.4.6 in c:\\users\\teges\\miniconda3\\envs\\isd\\lib\\site-packages (from pyasn1-modules>=0.2.1->google-auth<3,>=1.6.3->tensorboard<2.9,>=2.8->tensorflow) (0.4.8)\n",
      "Requirement already satisfied: charset-normalizer~=2.0.0 in c:\\users\\teges\\miniconda3\\envs\\isd\\lib\\site-packages (from requests<3,>=2.21.0->tensorboard<2.9,>=2.8->tensorflow) (2.0.12)\n",
      "Requirement already satisfied: certifi>=2017.4.17 in c:\\users\\teges\\miniconda3\\envs\\isd\\lib\\site-packages (from requests<3,>=2.21.0->tensorboard<2.9,>=2.8->tensorflow) (2020.12.5)\n",
      "Requirement already satisfied: idna<4,>=2.5 in c:\\users\\teges\\miniconda3\\envs\\isd\\lib\\site-packages (from requests<3,>=2.21.0->tensorboard<2.9,>=2.8->tensorflow) (3.3)\n",
      "Requirement already satisfied: urllib3<1.27,>=1.21.1 in c:\\users\\teges\\miniconda3\\envs\\isd\\lib\\site-packages (from requests<3,>=2.21.0->tensorboard<2.9,>=2.8->tensorflow) (1.26.9)\n",
      "Requirement already satisfied: oauthlib>=3.0.0 in c:\\users\\teges\\miniconda3\\envs\\isd\\lib\\site-packages (from requests-oauthlib>=0.7.0->google-auth-oauthlib<0.5,>=0.4.1->tensorboard<2.9,>=2.8->tensorflow) (3.2.0)\n",
      "Note: you may need to restart the kernel to use updated packages.\n",
      "Requirement already satisfied: keras in c:\\users\\teges\\miniconda3\\envs\\isd\\lib\\site-packages (2.8.0)\n",
      "Note: you may need to restart the kernel to use updated packages.\n"
     ]
    }
   ],
   "source": [
    "%pip install tensorflow --upgrade\n",
    "%pip install keras --upgrade\n",
    "\n",
    "import numpy as np\n",
    "from matplotlib import pyplot as pl\n",
    "\n",
    "from keras.datasets import mnist\n",
    "from keras.models import Sequential\n",
    "from keras.layers.core import Dense, Dropout\n",
    "from tensorflow.keras.optimizers import RMSprop\n",
    "\n",
    "from tensorflow.keras.optimizers import Adamax\n",
    "from tensorflow.keras.optimizers import Adagrad\n",
    "from tensorflow.keras.optimizers import Adadelta\n",
    "\n",
    "\n",
    "from keras.utils import np_utils\n",
    "from sklearn import metrics as me\n",
    "\n",
    "%matplotlib inline"
   ]
  },
  {
   "cell_type": "markdown",
   "metadata": {
    "id": "Vy0wRnm2bUde"
   },
   "source": [
    "## Using raw data to train a MLP\n",
    "First load the `mnist` dataset and normalize it to be in the range [0, 1]"
   ]
  },
  {
   "cell_type": "code",
   "execution_count": 80,
   "metadata": {
    "colab": {
     "base_uri": "https://localhost:8080/",
     "height": 51
    },
    "id": "8CKuJwcibUdi",
    "outputId": "62b6c3c9-af3b-4769-c557-cd6c74afcefe"
   },
   "outputs": [
    {
     "name": "stdout",
     "output_type": "stream",
     "text": [
      "60000 train samples\n",
      "10000 test samples\n"
     ]
    }
   ],
   "source": [
    "(X_train, y_train), (X_test, y_test) = mnist.load_data()\n",
    "\n",
    "X_train = X_train.reshape(60000, 784)\n",
    "X_test = X_test.reshape(10000, 784)\n",
    "X_train = X_train.astype('float32')\n",
    "X_test = X_test.astype('float32')\n",
    "X_train /= 255\n",
    "X_test /= 255\n",
    "print(X_train.shape[0], 'train samples')\n",
    "print(X_test.shape[0], 'test samples')\n",
    "\n",
    "n_classes = 10\n",
    "# convert class vectors to binary class matrices\n",
    "Y_train = np_utils.to_categorical(y_train, n_classes)\n",
    "Y_test = np_utils.to_categorical(y_test, n_classes)"
   ]
  },
  {
   "cell_type": "markdown",
   "metadata": {
    "id": "01XwVeDNbUdv"
   },
   "source": [
    "Create the MLP"
   ]
  },
  {
   "cell_type": "code",
   "execution_count": 83,
   "metadata": {},
   "outputs": [],
   "source": [
    "def test_hypers(neurons, drops, batch_sizes, optims, optimNames):\n",
    "    for n_neurons in neurons:\n",
    "        for drop in drops:\n",
    "            for batch_size in batch_sizes:\n",
    "                for i_o, optim in enumerate(optims):\n",
    "                    n_epoch = 20\n",
    "                    model = Sequential()\n",
    "                    model.add(Dense(n_neurons, input_shape=(784,), activation='relu'))\n",
    "                    if drop > 0:\n",
    "                        model.add(Dropout(drop))\n",
    "                    model.add(Dense(n_classes, activation='softmax'))\n",
    "                    model.compile(loss='categorical_crossentropy', optimizer=optim, metrics=['accuracy'])\n",
    "                    history = model.fit(X_train, Y_train,\n",
    "                                    batch_size=batch_size, epochs=n_epoch,\n",
    "                                    verbose=1, validation_data=(X_test, Y_test))\n",
    "                    pl.plot(history.history['loss'], label='Training')\n",
    "                    pl.plot(history.history['val_loss'], label='Testing')\n",
    "                    pl.ylabel('loss')\n",
    "                    pl.xlabel('Number of epochs')\n",
    "                    pl.title(optimNames[i_o]+' Batch size:'+str(batch_size)+' Nb epochs:'+str(n_epoch)+' Nb neurons:'+str(n_neurons)+' Dropout:'+ ('None' if drop < 0 else str(drop)))\n",
    "                    pl.legend()\n",
    "                    pl.grid()\n",
    "                    pl.savefig('../outPut2/' + optimNames[i_o]+'_Batch_size'+str(batch_size)+' Nb_epochs'+str(n_epoch)+' Nb_neurons'+str(n_neurons)+'_Dropout_'+ ('None' if drop < 0 else str(drop)) + '.png', dpi=500)\n",
    "                    score = model.evaluate(X_test, Y_test, verbose=0)\n",
    "                    print('Test score:', score[0])\n",
    "                    print('Test accuracy:', score[1])"
   ]
  },
  {
   "cell_type": "code",
   "execution_count": 84,
   "metadata": {},
   "outputs": [
    {
     "name": "stdout",
     "output_type": "stream",
     "text": [
      "Epoch 1/20\n",
      "938/938 [==============================] - 2s 2ms/step - loss: 1.4974 - accuracy: 0.5036 - val_loss: 0.9202 - val_accuracy: 0.7476\n",
      "Epoch 2/20\n",
      "938/938 [==============================] - 1s 1ms/step - loss: 0.7587 - accuracy: 0.7857 - val_loss: 0.6296 - val_accuracy: 0.8174\n",
      "Epoch 3/20\n",
      "938/938 [==============================] - 1s 1ms/step - loss: 0.6103 - accuracy: 0.8204 - val_loss: 0.5601 - val_accuracy: 0.8361\n",
      "Epoch 4/20\n",
      "938/938 [==============================] - 1s 1ms/step - loss: 0.5554 - accuracy: 0.8358 - val_loss: 0.5241 - val_accuracy: 0.8462\n",
      "Epoch 5/20\n",
      "938/938 [==============================] - 1s 1ms/step - loss: 0.5236 - accuracy: 0.8447 - val_loss: 0.4973 - val_accuracy: 0.8548\n",
      "Epoch 6/20\n",
      "938/938 [==============================] - 1s 1ms/step - loss: 0.5021 - accuracy: 0.8519 - val_loss: 0.4824 - val_accuracy: 0.8574\n",
      "Epoch 7/20\n",
      "938/938 [==============================] - 1s 1ms/step - loss: 0.4859 - accuracy: 0.8556 - val_loss: 0.4727 - val_accuracy: 0.8585\n",
      "Epoch 8/20\n",
      "938/938 [==============================] - 1s 1ms/step - loss: 0.4734 - accuracy: 0.8608 - val_loss: 0.4620 - val_accuracy: 0.8606\n",
      "Epoch 9/20\n",
      "938/938 [==============================] - 1s 1ms/step - loss: 0.4633 - accuracy: 0.8639 - val_loss: 0.4526 - val_accuracy: 0.8649\n",
      "Epoch 10/20\n",
      "938/938 [==============================] - 1s 1ms/step - loss: 0.4547 - accuracy: 0.8665 - val_loss: 0.4486 - val_accuracy: 0.8659\n",
      "Epoch 11/20\n",
      "938/938 [==============================] - 1s 1ms/step - loss: 0.4475 - accuracy: 0.8696 - val_loss: 0.4432 - val_accuracy: 0.8677\n",
      "Epoch 12/20\n",
      "938/938 [==============================] - 1s 1ms/step - loss: 0.4424 - accuracy: 0.8710 - val_loss: 0.4402 - val_accuracy: 0.8694\n",
      "Epoch 13/20\n",
      "938/938 [==============================] - 1s 1ms/step - loss: 0.4371 - accuracy: 0.8730 - val_loss: 0.4350 - val_accuracy: 0.8712\n",
      "Epoch 14/20\n",
      "938/938 [==============================] - 1s 1ms/step - loss: 0.4327 - accuracy: 0.8740 - val_loss: 0.4322 - val_accuracy: 0.8718\n",
      "Epoch 15/20\n",
      "938/938 [==============================] - 1s 1ms/step - loss: 0.4291 - accuracy: 0.8757 - val_loss: 0.4302 - val_accuracy: 0.8734\n",
      "Epoch 16/20\n",
      "938/938 [==============================] - 1s 1ms/step - loss: 0.4255 - accuracy: 0.8771 - val_loss: 0.4282 - val_accuracy: 0.8750\n",
      "Epoch 17/20\n",
      "938/938 [==============================] - 1s 1ms/step - loss: 0.4223 - accuracy: 0.8775 - val_loss: 0.4258 - val_accuracy: 0.8754\n",
      "Epoch 18/20\n",
      "938/938 [==============================] - 1s 1ms/step - loss: 0.4194 - accuracy: 0.8795 - val_loss: 0.4259 - val_accuracy: 0.8764\n",
      "Epoch 19/20\n",
      "938/938 [==============================] - 1s 1ms/step - loss: 0.4167 - accuracy: 0.8798 - val_loss: 0.4230 - val_accuracy: 0.8778\n",
      "Epoch 20/20\n",
      "938/938 [==============================] - 1s 1ms/step - loss: 0.4141 - accuracy: 0.8807 - val_loss: 0.4212 - val_accuracy: 0.8778\n"
     ]
    },
    {
     "ename": "TypeError",
     "evalue": "can only concatenate str (not \"int\") to str",
     "output_type": "error",
     "traceback": [
      "\u001b[1;31m---------------------------------------------------------------------------\u001b[0m",
      "\u001b[1;31mTypeError\u001b[0m                                 Traceback (most recent call last)",
      "\u001b[1;32m<ipython-input-84-fab3899d4238>\u001b[0m in \u001b[0;36m<module>\u001b[1;34m\u001b[0m\n\u001b[1;32m----> 1\u001b[1;33m \u001b[0mtest_hypers\u001b[0m\u001b[1;33m(\u001b[0m\u001b[1;33m[\u001b[0m\u001b[1;36m5\u001b[0m\u001b[1;33m,\u001b[0m \u001b[1;36m50\u001b[0m\u001b[1;33m,\u001b[0m \u001b[1;36m100\u001b[0m\u001b[1;33m,\u001b[0m \u001b[1;36m300\u001b[0m\u001b[1;33m]\u001b[0m\u001b[1;33m,\u001b[0m \u001b[1;33m[\u001b[0m\u001b[1;33m-\u001b[0m\u001b[1;36m1\u001b[0m\u001b[1;33m,\u001b[0m \u001b[1;36m0.3\u001b[0m\u001b[1;33m,\u001b[0m \u001b[1;36m0.5\u001b[0m\u001b[1;33m]\u001b[0m\u001b[1;33m,\u001b[0m \u001b[1;33m[\u001b[0m\u001b[1;36m64\u001b[0m\u001b[1;33m,\u001b[0m \u001b[1;36m128\u001b[0m\u001b[1;33m,\u001b[0m \u001b[1;36m256\u001b[0m\u001b[1;33m]\u001b[0m\u001b[1;33m,\u001b[0m \u001b[1;33m[\u001b[0m\u001b[0mAdamax\u001b[0m\u001b[1;33m(\u001b[0m\u001b[1;33m)\u001b[0m\u001b[1;33m,\u001b[0m \u001b[0mAdagrad\u001b[0m\u001b[1;33m(\u001b[0m\u001b[1;33m)\u001b[0m\u001b[1;33m,\u001b[0m \u001b[0mAdadelta\u001b[0m\u001b[1;33m(\u001b[0m\u001b[1;33m)\u001b[0m\u001b[1;33m]\u001b[0m\u001b[1;33m,\u001b[0m \u001b[1;33m[\u001b[0m\u001b[1;34m'Adamax'\u001b[0m\u001b[1;33m,\u001b[0m \u001b[1;34m'Adagrad'\u001b[0m\u001b[1;33m,\u001b[0m \u001b[1;34m'Adadelta'\u001b[0m\u001b[1;33m]\u001b[0m\u001b[1;33m)\u001b[0m\u001b[1;33m\u001b[0m\u001b[1;33m\u001b[0m\u001b[0m\n\u001b[0m",
      "\u001b[1;32m<ipython-input-83-7429eda9ddf2>\u001b[0m in \u001b[0;36mtest_hypers\u001b[1;34m(neurons, drops, batch_sizes, optims, optimNames)\u001b[0m\n\u001b[0;32m     22\u001b[0m                     \u001b[0mpl\u001b[0m\u001b[1;33m.\u001b[0m\u001b[0mlegend\u001b[0m\u001b[1;33m(\u001b[0m\u001b[1;33m)\u001b[0m\u001b[1;33m\u001b[0m\u001b[1;33m\u001b[0m\u001b[0m\n\u001b[0;32m     23\u001b[0m                     \u001b[0mpl\u001b[0m\u001b[1;33m.\u001b[0m\u001b[0mgrid\u001b[0m\u001b[1;33m(\u001b[0m\u001b[1;33m)\u001b[0m\u001b[1;33m\u001b[0m\u001b[1;33m\u001b[0m\u001b[0m\n\u001b[1;32m---> 24\u001b[1;33m                     \u001b[0mpl\u001b[0m\u001b[1;33m.\u001b[0m\u001b[0msavefig\u001b[0m\u001b[1;33m(\u001b[0m\u001b[1;34m'../outPut2/'\u001b[0m \u001b[1;33m+\u001b[0m \u001b[0moptimNames\u001b[0m\u001b[1;33m[\u001b[0m\u001b[0mi_o\u001b[0m\u001b[1;33m]\u001b[0m\u001b[1;33m+\u001b[0m\u001b[1;34m'_Batch_size'\u001b[0m\u001b[1;33m+\u001b[0m\u001b[0mstr\u001b[0m\u001b[1;33m(\u001b[0m\u001b[0mbatch_size\u001b[0m\u001b[1;33m)\u001b[0m\u001b[1;33m+\u001b[0m\u001b[1;34m' Nb_epochs'\u001b[0m\u001b[1;33m+\u001b[0m\u001b[0mstr\u001b[0m\u001b[1;33m(\u001b[0m\u001b[0mn_epoch\u001b[0m\u001b[1;33m)\u001b[0m\u001b[1;33m+\u001b[0m\u001b[1;34m' Nb_neurons'\u001b[0m\u001b[1;33m+\u001b[0m\u001b[0mstr\u001b[0m\u001b[1;33m(\u001b[0m\u001b[0mn_neurons\u001b[0m\u001b[1;33m)\u001b[0m\u001b[1;33m+\u001b[0m\u001b[1;34m'_Dropout_'\u001b[0m\u001b[1;33m+\u001b[0m \u001b[1;33m(\u001b[0m\u001b[1;34m'None'\u001b[0m \u001b[1;32mif\u001b[0m \u001b[0mdrop\u001b[0m \u001b[1;33m<\u001b[0m \u001b[1;36m0\u001b[0m \u001b[1;32melse\u001b[0m \u001b[0mstr\u001b[0m\u001b[1;33m(\u001b[0m\u001b[0mdrop\u001b[0m\u001b[1;33m)\u001b[0m\u001b[1;33m)\u001b[0m \u001b[1;33m+\u001b[0m \u001b[0mcnt\u001b[0m\u001b[1;33m+\u001b[0m\u001b[1;33m+\u001b[0m \u001b[1;33m+\u001b[0m\u001b[1;34m'.png'\u001b[0m\u001b[1;33m,\u001b[0m \u001b[0mdpi\u001b[0m\u001b[1;33m=\u001b[0m\u001b[1;36m500\u001b[0m\u001b[1;33m)\u001b[0m\u001b[1;33m\u001b[0m\u001b[1;33m\u001b[0m\u001b[0m\n\u001b[0m\u001b[0;32m     25\u001b[0m                     \u001b[0mscore\u001b[0m \u001b[1;33m=\u001b[0m \u001b[0mmodel\u001b[0m\u001b[1;33m.\u001b[0m\u001b[0mevaluate\u001b[0m\u001b[1;33m(\u001b[0m\u001b[0mX_test\u001b[0m\u001b[1;33m,\u001b[0m \u001b[0mY_test\u001b[0m\u001b[1;33m,\u001b[0m \u001b[0mverbose\u001b[0m\u001b[1;33m=\u001b[0m\u001b[1;36m0\u001b[0m\u001b[1;33m)\u001b[0m\u001b[1;33m\u001b[0m\u001b[1;33m\u001b[0m\u001b[0m\n\u001b[0;32m     26\u001b[0m                     \u001b[0mprint\u001b[0m\u001b[1;33m(\u001b[0m\u001b[1;34m'Test score:'\u001b[0m\u001b[1;33m,\u001b[0m \u001b[0mscore\u001b[0m\u001b[1;33m[\u001b[0m\u001b[1;36m0\u001b[0m\u001b[1;33m]\u001b[0m\u001b[1;33m)\u001b[0m\u001b[1;33m\u001b[0m\u001b[1;33m\u001b[0m\u001b[0m\n",
      "\u001b[1;31mTypeError\u001b[0m: can only concatenate str (not \"int\") to str"
     ]
    },
    {
     "data": {
      "image/png": "[encoded data removed]",
      "text/plain": [
       "<Figure size 432x288 with 1 Axes>"
      ]
     },
     "metadata": {
      "needs_background": "light"
     },
     "output_type": "display_data"
    }
   ],
   "source": [
    "test_hypers([5, 50, 100, 300], [-1, 0.3, 0.5], [64, 128, 256], [Adamax(), Adagrad(), Adadelta()], ['Adamax', 'Adagrad', 'Adadelta'])"
   ]
  },
  {
   "cell_type": "markdown",
   "metadata": {},
   "source": [
    "784 entrées 10 sortie et 300 neurones dans la couche cachée."
   ]
  },
  {
   "cell_type": "code",
   "execution_count": 72,
   "metadata": {
    "colab": {
     "base_uri": "https://localhost:8080/",
     "height": 221
    },
    "id": "DNgzrBJEbUd0",
    "outputId": "f34f82a1-cd6b-474f-8186-a0c61f81a08c"
   },
   "outputs": [
    {
     "name": "stdout",
     "output_type": "stream",
     "text": [
      "Model: \"sequential_11\"\n",
      "_________________________________________________________________\n",
      " Layer (type)                Output Shape              Param #   \n",
      "=================================================================\n",
      " dense_21 (Dense)            (None, 300)               235500    \n",
      "                                                                 \n",
      " dense_22 (Dense)            (None, 10)                3010      \n",
      "                                                                 \n",
      "=================================================================\n",
      "Total params: 238,510\n",
      "Trainable params: 238,510\n",
      "Non-trainable params: 0\n",
      "_________________________________________________________________\n"
     ]
    }
   ],
   "source": [
    "n_neurons = 300\n",
    "drop = -1\n",
    "model = Sequential()\n",
    "model.add(Dense(n_neurons, input_shape=(784,), activation='relu'))\n",
    "if drop > 0:\n",
    "    model.add(Dropout(drop))\n",
    "model.add(Dense(n_classes, activation='softmax'))\n",
    "\n",
    "model.summary()"
   ]
  },
  {
   "cell_type": "code",
   "execution_count": null,
   "metadata": {},
   "outputs": [],
   "source": []
  },
  {
   "cell_type": "markdown",
   "metadata": {
    "id": "Peiq9GR2bUeN"
   },
   "source": [
    "Define some constants and train the MLP"
   ]
  },
  {
   "cell_type": "code",
   "execution_count": 73,
   "metadata": {},
   "outputs": [
    {
     "data": {
      "text/plain": [
       "\"\\n #copy for test \\nbatch_size = 10, 30, 50, 70, 90,110, 128\\nn_epoch = 5, 10, 15,20,25,30,35\\n\\nmodel.compile(loss='categorical_crossentropy', optimizer=RMSprop(), metrics=['accuracy'])\\n\\nfor i in batch_size:\\n    for j in n_epoch:\\n        history = model.fit(X_train, Y_train,\\n                    batch_size=i, epochs=j,\\n                    verbose=1, validation_data=(X_test, Y_test))\\n\""
      ]
     },
     "execution_count": 73,
     "metadata": {},
     "output_type": "execute_result"
    }
   ],
   "source": [
    "'''\n",
    " #copy for test \n",
    "batch_size = 10, 30, 50, 70, 90,110, 128\n",
    "n_epoch = 5, 10, 15,20,25,30,35\n",
    "\n",
    "model.compile(loss='categorical_crossentropy', optimizer=RMSprop(), metrics=['accuracy'])\n",
    "\n",
    "for i in batch_size:\n",
    "    for j in n_epoch:\n",
    "        history = model.fit(X_train, Y_train,\n",
    "                    batch_size=i, epochs=j,\n",
    "                    verbose=1, validation_data=(X_test, Y_test))\n",
    "'''"
   ]
  },
  {
   "cell_type": "code",
   "execution_count": 74,
   "metadata": {
    "colab": {
     "base_uri": "https://localhost:8080/",
     "height": 374
    },
    "id": "NBt-ReqIbUeR",
    "outputId": "b1e07312-0ddd-4a6c-a52d-c762dda98b1b"
   },
   "outputs": [
    {
     "name": "stdout",
     "output_type": "stream",
     "text": [
      "Epoch 1/20\n",
      "469/469 [==============================] - 2s 4ms/step - loss: 2.2226 - accuracy: 0.2034 - val_loss: 2.1628 - val_accuracy: 0.2592\n",
      "Epoch 2/20\n",
      "469/469 [==============================] - 2s 3ms/step - loss: 2.1158 - accuracy: 0.3187 - val_loss: 2.0555 - val_accuracy: 0.3741\n",
      "Epoch 3/20\n",
      "469/469 [==============================] - 2s 3ms/step - loss: 2.0118 - accuracy: 0.4238 - val_loss: 1.9514 - val_accuracy: 0.4798\n",
      "Epoch 4/20\n",
      "469/469 [==============================] - 2s 3ms/step - loss: 1.9113 - accuracy: 0.5168 - val_loss: 1.8511 - val_accuracy: 0.5682\n",
      "Epoch 5/20\n",
      "469/469 [==============================] - 2s 4ms/step - loss: 1.8147 - accuracy: 0.5890 - val_loss: 1.7551 - val_accuracy: 0.6313\n",
      "Epoch 6/20\n",
      "469/469 [==============================] - 2s 4ms/step - loss: 1.7226 - accuracy: 0.6409 - val_loss: 1.6637 - val_accuracy: 0.6723\n",
      "Epoch 7/20\n",
      "469/469 [==============================] - 2s 3ms/step - loss: 1.6348 - accuracy: 0.6757 - val_loss: 1.5767 - val_accuracy: 0.7008\n",
      "Epoch 8/20\n",
      "469/469 [==============================] - 2s 3ms/step - loss: 1.5517 - accuracy: 0.7026 - val_loss: 1.4948 - val_accuracy: 0.7251\n",
      "Epoch 9/20\n",
      "469/469 [==============================] - 2s 3ms/step - loss: 1.4734 - accuracy: 0.7235 - val_loss: 1.4179 - val_accuracy: 0.7433\n",
      "Epoch 10/20\n",
      "469/469 [==============================] - 1s 3ms/step - loss: 1.3999 - accuracy: 0.7412 - val_loss: 1.3455 - val_accuracy: 0.7593\n",
      "Epoch 11/20\n",
      "469/469 [==============================] - 1s 3ms/step - loss: 1.3310 - accuracy: 0.7534 - val_loss: 1.2784 - val_accuracy: 0.7712\n",
      "Epoch 12/20\n",
      "469/469 [==============================] - 1s 3ms/step - loss: 1.2671 - accuracy: 0.7660 - val_loss: 1.2161 - val_accuracy: 0.7835\n",
      "Epoch 13/20\n",
      "469/469 [==============================] - 1s 3ms/step - loss: 1.2079 - accuracy: 0.7758 - val_loss: 1.1585 - val_accuracy: 0.7920\n",
      "Epoch 14/20\n",
      "469/469 [==============================] - 1s 3ms/step - loss: 1.1531 - accuracy: 0.7840 - val_loss: 1.1054 - val_accuracy: 0.7985\n",
      "Epoch 15/20\n",
      "469/469 [==============================] - 1s 3ms/step - loss: 1.1027 - accuracy: 0.7927 - val_loss: 1.0566 - val_accuracy: 0.8061\n",
      "Epoch 16/20\n",
      "469/469 [==============================] - 1s 3ms/step - loss: 1.0564 - accuracy: 0.7994 - val_loss: 1.0119 - val_accuracy: 0.8118\n",
      "Epoch 17/20\n",
      "469/469 [==============================] - 1s 3ms/step - loss: 1.0139 - accuracy: 0.8052 - val_loss: 0.9707 - val_accuracy: 0.8170\n",
      "Epoch 18/20\n",
      "469/469 [==============================] - 1s 3ms/step - loss: 0.9748 - accuracy: 0.8102 - val_loss: 0.9330 - val_accuracy: 0.8219\n",
      "Epoch 19/20\n",
      "469/469 [==============================] - 1s 3ms/step - loss: 0.9389 - accuracy: 0.8156 - val_loss: 0.8984 - val_accuracy: 0.8254\n",
      "Epoch 20/20\n",
      "469/469 [==============================] - 1s 3ms/step - loss: 0.9058 - accuracy: 0.8201 - val_loss: 0.8665 - val_accuracy: 0.8286\n"
     ]
    }
   ],
   "source": [
    "batch_size = 128\n",
    "n_epoch = 20\n",
    "\n",
    "model.compile(loss='categorical_crossentropy', optimizer=Adadelta(), metrics=['accuracy'])\n",
    "history = model.fit(X_train, Y_train,\n",
    "                    batch_size=batch_size, epochs=n_epoch,\n",
    "                    verbose=1, validation_data=(X_test, Y_test))"
   ]
  },
  {
   "cell_type": "markdown",
   "metadata": {
    "id": "7u_zpHr5bUeb"
   },
   "source": [
    "Show the performance of the model"
   ]
  },
  {
   "cell_type": "code",
   "execution_count": 75,
   "metadata": {
    "colab": {
     "base_uri": "https://localhost:8080/",
     "height": 299
    },
    "id": "PHXi21E1bUef",
    "outputId": "b153b1ab-4795-4704-b1a3-f28d4d636043"
   },
   "outputs": [
    {
     "name": "stdout",
     "output_type": "stream",
     "text": [
      "Test score: 0.8664988279342651\n",
      "Test accuracy: 0.8285999894142151\n"
     ]
    },
    {
     "data": {
      "image/png": "[encoded data removed]",
      "text/plain": [
       "<Figure size 432x288 with 1 Axes>"
      ]
     },
     "metadata": {
      "needs_background": "light"
     },
     "output_type": "display_data"
    }
   ],
   "source": [
    "\n",
    "pl.plot(history.history['loss'], label='Training')\n",
    "pl.plot(history.history['val_loss'], label='Testing')\n",
    "pl.ylabel('loss')\n",
    "pl.xlabel('Number of epochs')\n",
    "pl.title('Batch size:'+str(batch_size)+' Nb epochs:'+str(n_epoch)+' Nb neurons:'+str(n_neurons)+' Dropout:'+ ('None' if drop < 0 else str(drop)) )\n",
    "pl.legend()\n",
    "pl.grid()\n",
    "\n",
    "score = model.evaluate(X_test, Y_test, verbose=0)\n",
    "print('Test score:', score[0])\n",
    "print('Test accuracy:', score[1])\n"
   ]
  },
  {
   "cell_type": "markdown",
   "metadata": {
    "id": "jLuFK6MobUet"
   },
   "source": [
    "Confusion matrix"
   ]
  },
  {
   "cell_type": "code",
   "execution_count": 76,
   "metadata": {
    "colab": {
     "base_uri": "https://localhost:8080/",
     "height": 187
    },
    "id": "PAjwjjrjbUex",
    "outputId": "c96b6cf1-3bb9-4056-a6ec-0f20921828c3"
   },
   "outputs": [
    {
     "data": {
      "text/plain": [
       "array([[ 919,    0,    5,   13,    0,    4,   27,    1,   10,    1],\n",
       "       [   0, 1095,   15,    3,    0,    0,    4,    1,   17,    0],\n",
       "       [  18,   48,  817,   43,   15,    0,   33,   11,   45,    2],\n",
       "       [  11,    6,   29,  862,    1,   26,    7,   20,   36,   12],\n",
       "       [   2,   11,   12,    0,  729,    1,   35,    5,   19,  168],\n",
       "       [  35,   19,   13,  102,   42,  566,   20,   18,   58,   19],\n",
       "       [  31,   13,   13,    1,    2,   15,  878,    1,    4,    0],\n",
       "       [   3,   37,   33,    3,   14,    0,    2,  898,    6,   32],\n",
       "       [  17,   35,   18,   74,    8,   16,   17,   18,  742,   29],\n",
       "       [  14,   20,   24,    8,   64,   10,    1,   67,   21,  780]],\n",
       "      dtype=int64)"
      ]
     },
     "execution_count": 76,
     "metadata": {},
     "output_type": "execute_result"
    }
   ],
   "source": [
    "pred = model.predict(X_test)\n",
    "pred = np.argmax(pred, axis=-1)\n",
    "me.confusion_matrix(y_test, pred)"
   ]
  },
  {
   "cell_type": "code",
   "execution_count": null,
   "metadata": {},
   "outputs": [],
   "source": []
  }
 ],
 "metadata": {
  "accelerator": "GPU",
  "colab": {
   "collapsed_sections": [],
   "name": "MLP_from_raw_data.ipynb",
   "provenance": []
  },
  "kernelspec": {
   "display_name": "Python 3",
   "language": "python",
   "name": "python3"
  },
  "language_info": {
   "codemirror_mode": {
    "name": "ipython",
    "version": 3
   },
   "file_extension": ".py",
   "mimetype": "text/x-python",
   "name": "python",
   "nbconvert_exporter": "python",
   "pygments_lexer": "ipython3",
   "version": "3.9.1"
  }
 },
 "nbformat": 4,
 "nbformat_minor": 1
}
