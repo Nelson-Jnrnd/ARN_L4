{
 "cells": [
  {
   "cell_type": "markdown",
   "id": "going-candy",
   "metadata": {},
   "source": [
    "Fashion MNIST experiment"
   ]
  },
  {
   "cell_type": "markdown",
   "id": "amazing-cancer",
   "metadata": {},
   "source": [
    "## Loading the packages"
   ]
  },
  {
   "cell_type": "code",
   "execution_count": 5,
   "id": "developing-beverage",
   "metadata": {},
   "outputs": [
    {
     "name": "stdout",
     "output_type": "stream",
     "text": [
      "Requirement already satisfied: tensorflow in c:\\users\\teges\\miniconda3\\envs\\isd\\lib\\site-packages (2.8.0)\n",
      "Requirement already satisfied: termcolor>=1.1.0 in c:\\users\\teges\\miniconda3\\envs\\isd\\lib\\site-packages (from tensorflow) (1.1.0)\n",
      "Requirement already satisfied: keras<2.9,>=2.8.0rc0 in c:\\users\\teges\\miniconda3\\envs\\isd\\lib\\site-packages (from tensorflow) (2.8.0)\n",
      "Requirement already satisfied: absl-py>=0.4.0 in c:\\users\\teges\\miniconda3\\envs\\isd\\lib\\site-packages (from tensorflow) (1.0.0)\n",
      "Requirement already satisfied: wrapt>=1.11.0 in c:\\users\\teges\\miniconda3\\envs\\isd\\lib\\site-packages (from tensorflow) (1.14.0)\n",
      "Requirement already satisfied: h5py>=2.9.0 in c:\\users\\teges\\miniconda3\\envs\\isd\\lib\\site-packages (from tensorflow) (3.6.0)\n",
      "Requirement already satisfied: astunparse>=1.6.0 in c:\\users\\teges\\miniconda3\\envs\\isd\\lib\\site-packages (from tensorflow) (1.6.3)\n",
      "Requirement already satisfied: grpcio<2.0,>=1.24.3 in c:\\users\\teges\\miniconda3\\envs\\isd\\lib\\site-packages (from tensorflow) (1.44.0)\n",
      "Requirement already satisfied: typing-extensions>=3.6.6 in c:\\users\\teges\\miniconda3\\envs\\isd\\lib\\site-packages (from tensorflow) (4.2.0)\n",
      "Requirement already satisfied: tensorboard<2.9,>=2.8 in c:\\users\\teges\\miniconda3\\envs\\isd\\lib\\site-packages (from tensorflow) (2.8.0)\n",
      "Requirement already satisfied: six>=1.12.0 in c:\\users\\teges\\miniconda3\\envs\\isd\\lib\\site-packages (from tensorflow) (1.15.0)\n",
      "Requirement already satisfied: tensorflow-io-gcs-filesystem>=0.23.1 in c:\\users\\teges\\miniconda3\\envs\\isd\\lib\\site-packages (from tensorflow) (0.25.0)\n",
      "Requirement already satisfied: tf-estimator-nightly==2.8.0.dev2021122109 in c:\\users\\teges\\miniconda3\\envs\\isd\\lib\\site-packages (from tensorflow) (2.8.0.dev2021122109)\n",
      "Requirement already satisfied: keras-preprocessing>=1.1.1 in c:\\users\\teges\\miniconda3\\envs\\isd\\lib\\site-packages (from tensorflow) (1.1.2)\n",
      "Requirement already satisfied: google-pasta>=0.1.1 in c:\\users\\teges\\miniconda3\\envs\\isd\\lib\\site-packages (from tensorflow) (0.2.0)\n",
      "Requirement already satisfied: flatbuffers>=1.12 in c:\\users\\teges\\miniconda3\\envs\\isd\\lib\\site-packages (from tensorflow) (2.0)\n",
      "Requirement already satisfied: libclang>=9.0.1 in c:\\users\\teges\\miniconda3\\envs\\isd\\lib\\site-packages (from tensorflow) (14.0.1)\n",
      "Requirement already satisfied: protobuf>=3.9.2 in c:\\users\\teges\\miniconda3\\envs\\isd\\lib\\site-packages (from tensorflow) (3.20.1)\n",
      "Requirement already satisfied: opt-einsum>=2.3.2 in c:\\users\\teges\\miniconda3\\envs\\isd\\lib\\site-packages (from tensorflow) (3.3.0)\n",
      "Requirement already satisfied: numpy>=1.20 in c:\\users\\teges\\miniconda3\\envs\\isd\\lib\\site-packages (from tensorflow) (1.20.1)\n",
      "Requirement already satisfied: gast>=0.2.1 in c:\\users\\teges\\miniconda3\\envs\\isd\\lib\\site-packages (from tensorflow) (0.5.3)\n",
      "Requirement already satisfied: setuptools in c:\\users\\teges\\miniconda3\\envs\\isd\\lib\\site-packages (from tensorflow) (52.0.0.post20210125)\n",
      "Requirement already satisfied: wheel<1.0,>=0.23.0 in c:\\users\\teges\\miniconda3\\envs\\isd\\lib\\site-packages (from astunparse>=1.6.0->tensorflow) (0.36.2)\n",
      "Requirement already satisfied: markdown>=2.6.8 in c:\\users\\teges\\miniconda3\\envs\\isd\\lib\\site-packages (from tensorboard<2.9,>=2.8->tensorflow) (3.3.6)\n",
      "Requirement already satisfied: werkzeug>=0.11.15 in c:\\users\\teges\\miniconda3\\envs\\isd\\lib\\site-packages (from tensorboard<2.9,>=2.8->tensorflow) (2.1.1)\n",
      "Requirement already satisfied: tensorboard-plugin-wit>=1.6.0 in c:\\users\\teges\\miniconda3\\envs\\isd\\lib\\site-packages (from tensorboard<2.9,>=2.8->tensorflow) (1.8.1)\n",
      "Requirement already satisfied: requests<3,>=2.21.0 in c:\\users\\teges\\miniconda3\\envs\\isd\\lib\\site-packages (from tensorboard<2.9,>=2.8->tensorflow) (2.27.1)\n",
      "Requirement already satisfied: tensorboard-data-server<0.7.0,>=0.6.0 in c:\\users\\teges\\miniconda3\\envs\\isd\\lib\\site-packages (from tensorboard<2.9,>=2.8->tensorflow) (0.6.1)\n",
      "Requirement already satisfied: google-auth<3,>=1.6.3 in c:\\users\\teges\\miniconda3\\envs\\isd\\lib\\site-packages (from tensorboard<2.9,>=2.8->tensorflow) (2.6.6)\n",
      "Requirement already satisfied: google-auth-oauthlib<0.5,>=0.4.1 in c:\\users\\teges\\miniconda3\\envs\\isd\\lib\\site-packages (from tensorboard<2.9,>=2.8->tensorflow) (0.4.6)\n",
      "Requirement already satisfied: pyasn1-modules>=0.2.1 in c:\\users\\teges\\miniconda3\\envs\\isd\\lib\\site-packages (from google-auth<3,>=1.6.3->tensorboard<2.9,>=2.8->tensorflow) (0.2.8)\n",
      "Requirement already satisfied: rsa<5,>=3.1.4 in c:\\users\\teges\\miniconda3\\envs\\isd\\lib\\site-packages (from google-auth<3,>=1.6.3->tensorboard<2.9,>=2.8->tensorflow) (4.8)\n",
      "Requirement already satisfied: cachetools<6.0,>=2.0.0 in c:\\users\\teges\\miniconda3\\envs\\isd\\lib\\site-packages (from google-auth<3,>=1.6.3->tensorboard<2.9,>=2.8->tensorflow) (5.0.0)\n",
      "Requirement already satisfied: requests-oauthlib>=0.7.0 in c:\\users\\teges\\miniconda3\\envs\\isd\\lib\\site-packages (from google-auth-oauthlib<0.5,>=0.4.1->tensorboard<2.9,>=2.8->tensorflow) (1.3.1)\n",
      "Requirement already satisfied: importlib-metadata>=4.4 in c:\\users\\teges\\miniconda3\\envs\\isd\\lib\\site-packages (from markdown>=2.6.8->tensorboard<2.9,>=2.8->tensorflow) (4.11.3)\n",
      "Requirement already satisfied: zipp>=0.5 in c:\\users\\teges\\miniconda3\\envs\\isd\\lib\\site-packages (from importlib-metadata>=4.4->markdown>=2.6.8->tensorboard<2.9,>=2.8->tensorflow) (3.4.0)\n",
      "Requirement already satisfied: pyasn1<0.5.0,>=0.4.6 in c:\\users\\teges\\miniconda3\\envs\\isd\\lib\\site-packages (from pyasn1-modules>=0.2.1->google-auth<3,>=1.6.3->tensorboard<2.9,>=2.8->tensorflow) (0.4.8)\n",
      "Requirement already satisfied: urllib3<1.27,>=1.21.1 in c:\\users\\teges\\miniconda3\\envs\\isd\\lib\\site-packages (from requests<3,>=2.21.0->tensorboard<2.9,>=2.8->tensorflow) (1.26.9)\n",
      "Requirement already satisfied: idna<4,>=2.5 in c:\\users\\teges\\miniconda3\\envs\\isd\\lib\\site-packages (from requests<3,>=2.21.0->tensorboard<2.9,>=2.8->tensorflow) (3.3)\n",
      "Requirement already satisfied: charset-normalizer~=2.0.0 in c:\\users\\teges\\miniconda3\\envs\\isd\\lib\\site-packages (from requests<3,>=2.21.0->tensorboard<2.9,>=2.8->tensorflow) (2.0.12)\n",
      "Requirement already satisfied: certifi>=2017.4.17 in c:\\users\\teges\\miniconda3\\envs\\isd\\lib\\site-packages (from requests<3,>=2.21.0->tensorboard<2.9,>=2.8->tensorflow) (2020.12.5)\n",
      "Requirement already satisfied: oauthlib>=3.0.0 in c:\\users\\teges\\miniconda3\\envs\\isd\\lib\\site-packages (from requests-oauthlib>=0.7.0->google-auth-oauthlib<0.5,>=0.4.1->tensorboard<2.9,>=2.8->tensorflow) (3.2.0)\n",
      "Note: you may need to restart the kernel to use updated packages.\n",
      "Requirement already satisfied: keras in c:\\users\\teges\\miniconda3\\envs\\isd\\lib\\site-packages (2.8.0)\n",
      "Note: you may need to restart the kernel to use updated packages.\n"
     ]
    }
   ],
   "source": [
    "%pip install tensorflow --upgrade\n",
    "%pip install keras --upgrade\n",
    "\n",
    "import numpy as np\n",
    "from matplotlib import pyplot as pl\n",
    "\n",
    "from keras.datasets import fashion_mnist\n",
    "from keras.models import Model\n",
    "from keras.layers.core import Dense, Dropout, Flatten\n",
    "from tensorflow.keras.optimizers import RMSprop\n",
    "from keras.utils import np_utils\n",
    "from keras.layers.convolutional import Conv2D, MaxPooling2D\n",
    "from keras.layers import Input\n",
    "from sklearn import metrics as me\n",
    "from scipy import stats\n",
    "\n",
    "%matplotlib inline"
   ]
  },
  {
   "cell_type": "code",
   "execution_count": 6,
   "id": "prepared-convert",
   "metadata": {},
   "outputs": [],
   "source": [
    "def build_grid_of_images(array):\n",
    "    assert len(array.shape) == 3\n",
    "    dim_0 = np.sqrt(array.shape[0])\n",
    "    assert dim_0.is_integer()\n",
    "    \n",
    "    temp_out = np.reshape(array, (dim_0, dim_0, array.shape[1], array.shape[2]))\n",
    "    temp_out = np.rollaxis(temp_out, 1, 3)\n",
    "    return np.reshape(temp_out, (dim_0*array.shape[1], dim_0*array.shape[2]))\n",
    "\n",
    "def plot_conv_layer_output(temp_out, title):\n",
    "    temp_to_plot = build_grid_of_images(temp_out)\n",
    "    pl.imshow(temp_to_plot, interpolation='nearest', cmap=pl.get_cmap('Greys'))\n",
    "    ax = pl.gca()\n",
    "    ax.set_xticks(np.arange(-0.5, temp_to_plot.shape[0]+0.5, temp_out.shape[1]))    \n",
    "    ax.set_yticks(np.arange(-0.5, temp_to_plot.shape[0]+0.5, temp_out.shape[2]))\n",
    "    pl.grid()\n",
    "    pl.tick_params(axis='both', which='both', bottom='off', top='off', left='off', right='off', labelbottom='off', labelleft='off')\n",
    "    pl.title(title)\n",
    "\n",
    "def plot_dense_layer_output(temp_out, title):\n",
    "    pl.bar(np.arange(temp_out.shape[1])-0.4, temp_out[0,:])\n",
    "    pl.xlim(-0.5, temp_out.shape[1])\n",
    "    pl.grid()\n",
    "    pl.title(title)"
   ]
  },
  {
   "cell_type": "code",
   "execution_count": 7,
   "id": "rising-actor",
   "metadata": {},
   "outputs": [
    {
     "name": "stdout",
     "output_type": "stream",
     "text": [
      "Downloading data from https://storage.googleapis.com/tensorflow/tf-keras-datasets/train-labels-idx1-ubyte.gz\n",
      "32768/29515 [=================================] - 0s 0us/step\n",
      "40960/29515 [=========================================] - 0s 0us/step\n",
      "Downloading data from https://storage.googleapis.com/tensorflow/tf-keras-datasets/train-images-idx3-ubyte.gz\n",
      "26427392/26421880 [==============================] - 2s 0us/step\n",
      "26435584/26421880 [==============================] - 2s 0us/step\n",
      "Downloading data from https://storage.googleapis.com/tensorflow/tf-keras-datasets/t10k-labels-idx1-ubyte.gz\n",
      "16384/5148 [===============================================================================================] - 0s 0s/step\n",
      "Downloading data from https://storage.googleapis.com/tensorflow/tf-keras-datasets/t10k-images-idx3-ubyte.gz\n",
      "4423680/4422102 [==============================] - 0s 0us/step\n",
      "4431872/4422102 [==============================] - 0s 0us/step\n",
      "60000 train samples\n",
      "10000 test samples\n"
     ]
    }
   ],
   "source": [
    "#load the mnist dataset and normalize in the range[0,1]\n",
    "(X_train, y_train), (X_test, y_test) = fashion_mnist.load_data()\n",
    "\n",
    "n_train, height, width = X_train.shape\n",
    "n_test, _, _ = X_test.shape\n",
    "\n",
    "X_train = X_train.reshape(n_train, height, width, 1).astype('float32')\n",
    "X_test = X_test.reshape(n_test, height, width, 1).astype('float32')\n",
    "\n",
    "X_train /= 255.0\n",
    "X_test /= 255.0\n",
    "\n",
    "n_classes = 10\n",
    "\n",
    "print(n_train, 'train samples')\n",
    "print(n_test, 'test samples')\n",
    "\n",
    "# convert class vectors to binary class matrices\n",
    "Y_train = np_utils.to_categorical(y_train, n_classes)\n",
    "Y_test = np_utils.to_categorical(y_test, n_classes)"
   ]
  },
  {
   "cell_type": "code",
   "execution_count": 8,
   "id": "stainless-client",
   "metadata": {},
   "outputs": [
    {
     "name": "stdout",
     "output_type": "stream",
     "text": [
      "Model: \"model\"\n",
      "_________________________________________________________________\n",
      " Layer (type)                Output Shape              Param #   \n",
      "=================================================================\n",
      " l0 (InputLayer)             [(None, 28, 28, 1)]       0         \n",
      "                                                                 \n",
      " l1 (Conv2D)                 (None, 28, 28, 9)         234       \n",
      "                                                                 \n",
      " l1_mp (MaxPooling2D)        (None, 14, 14, 9)         0         \n",
      "                                                                 \n",
      " l2 (Conv2D)                 (None, 14, 14, 9)         2034      \n",
      "                                                                 \n",
      " l2_mp (MaxPooling2D)        (None, 7, 7, 9)           0         \n",
      "                                                                 \n",
      " l3 (Conv2D)                 (None, 7, 7, 16)          1312      \n",
      "                                                                 \n",
      " l3_mp (MaxPooling2D)        (None, 3, 3, 16)          0         \n",
      "                                                                 \n",
      " flat (Flatten)              (None, 144)               0         \n",
      "                                                                 \n",
      " l4 (Dense)                  (None, 25)                3625      \n",
      "                                                                 \n",
      " l5 (Dense)                  (None, 10)                260       \n",
      "                                                                 \n",
      "=================================================================\n",
      "Total params: 7,465\n",
      "Trainable params: 7,465\n",
      "Non-trainable params: 0\n",
      "_________________________________________________________________\n"
     ]
    }
   ],
   "source": [
    "#creat the CNN and show its architecture\n",
    "l0 = Input(shape=(height, width, 1), name='l0')\n",
    "\n",
    "l1 = Conv2D(9, (5, 5), padding='same', activation='relu', name='l1')(l0)\n",
    "l1_mp = MaxPooling2D(pool_size=(2, 2), name='l1_mp')(l1)\n",
    "\n",
    "l2 = Conv2D(9, (5, 5), padding='same', activation='relu', name='l2')(l1_mp)\n",
    "l2_mp = MaxPooling2D(pool_size=(2, 2), name='l2_mp')(l2)\n",
    "\n",
    "l3 = Conv2D(16, (3, 3), padding='same', activation='relu', name='l3')(l2_mp)\n",
    "l3_mp = MaxPooling2D(pool_size=(2, 2), name='l3_mp')(l3)\n",
    "\n",
    "flat = Flatten(name='flat')(l3_mp)\n",
    "\n",
    "l4 = Dense(25, activation='relu', name='l4')(flat)\n",
    "\n",
    "l5 = Dense(n_classes, activation='softmax', name='l5')(l4)\n",
    "\n",
    "model = Model(inputs=l0, outputs=l5)\n",
    "model.summary()"
   ]
  },
  {
   "cell_type": "code",
   "execution_count": 9,
   "id": "pacific-imaging",
   "metadata": {},
   "outputs": [
    {
     "name": "stdout",
     "output_type": "stream",
     "text": [
      "Epoch 1/10\n",
      "469/469 [==============================] - 20s 41ms/step - loss: 0.8862 - accuracy: 0.6813 - val_loss: 0.6440 - val_accuracy: 0.7706\n",
      "Epoch 2/10\n",
      "469/469 [==============================] - 19s 41ms/step - loss: 0.5464 - accuracy: 0.8023 - val_loss: 0.4932 - val_accuracy: 0.8250\n",
      "Epoch 3/10\n",
      "469/469 [==============================] - 22s 46ms/step - loss: 0.4564 - accuracy: 0.8356 - val_loss: 0.4423 - val_accuracy: 0.8403\n",
      "Epoch 4/10\n",
      "469/469 [==============================] - 30s 63ms/step - loss: 0.4079 - accuracy: 0.8533 - val_loss: 0.4269 - val_accuracy: 0.8484\n",
      "Epoch 5/10\n",
      "469/469 [==============================] - 31s 66ms/step - loss: 0.3779 - accuracy: 0.8640 - val_loss: 0.4129 - val_accuracy: 0.8544\n",
      "Epoch 6/10\n",
      "469/469 [==============================] - 30s 64ms/step - loss: 0.3575 - accuracy: 0.8715 - val_loss: 0.3783 - val_accuracy: 0.8660\n",
      "Epoch 7/10\n",
      "469/469 [==============================] - 31s 65ms/step - loss: 0.3408 - accuracy: 0.8772 - val_loss: 0.3757 - val_accuracy: 0.8663\n",
      "Epoch 8/10\n",
      "469/469 [==============================] - 32s 68ms/step - loss: 0.3276 - accuracy: 0.8820 - val_loss: 0.3673 - val_accuracy: 0.8679\n",
      "Epoch 9/10\n",
      "469/469 [==============================] - 30s 64ms/step - loss: 0.3168 - accuracy: 0.8850 - val_loss: 0.3516 - val_accuracy: 0.8748\n",
      "Epoch 10/10\n",
      "469/469 [==============================] - 32s 69ms/step - loss: 0.3066 - accuracy: 0.8889 - val_loss: 0.3346 - val_accuracy: 0.8797\n"
     ]
    }
   ],
   "source": [
    "#define some constatns and train the CNN\n",
    "batch_size = 128\n",
    "n_epoch = 10\n",
    "\n",
    "model.compile(loss='categorical_crossentropy', optimizer=RMSprop(), metrics=['accuracy'])\n",
    "history = model.fit(X_train, Y_train, batch_size=batch_size, epochs=n_epoch, verbose=1, validation_data=(X_test, Y_test))"
   ]
  },
  {
   "cell_type": "code",
   "execution_count": 10,
   "id": "developmental-banana",
   "metadata": {},
   "outputs": [
    {
     "name": "stdout",
     "output_type": "stream",
     "text": [
      "Test score: 0.33464717864990234\n",
      "Test accuracy: 0.8797000050544739\n"
     ]
    },
    {
     "data": {
      "image/png": "[encoded data removed]",
      "text/plain": [
       "<Figure size 432x288 with 1 Axes>"
      ]
     },
     "metadata": {
      "needs_background": "light"
     },
     "output_type": "display_data"
    }
   ],
   "source": [
    "#show the performance\n",
    "pl.plot(history.history['loss'], label='Training')\n",
    "pl.plot(history.history['val_loss'], label='Testing')\n",
    "pl.legend()\n",
    "pl.grid()\n",
    "\n",
    "score = model.evaluate(X_test, Y_test, verbose=0)\n",
    "print('Test score:', score[0])\n",
    "print('Test accuracy:', score[1])"
   ]
  },
  {
   "cell_type": "code",
   "execution_count": 11,
   "id": "unable-duration",
   "metadata": {},
   "outputs": [
    {
     "data": {
      "text/plain": [
       "array([[803,   1,  16,  53,   5,   3, 111,   0,   8,   0],\n",
       "       [  2, 965,   0,  24,   5,   0,   2,   0,   2,   0],\n",
       "       [ 14,   2, 825,  11,  90,   0,  58,   0,   0,   0],\n",
       "       [ 11,   5,   9, 918,  21,   0,  34,   0,   2,   0],\n",
       "       [  2,   2,  76,  51, 804,   0,  63,   0,   2,   0],\n",
       "       [  0,   0,   0,   2,   0, 971,   0,  12,   5,  10],\n",
       "       [117,   1,  88,  44,  77,   0, 659,   0,  14,   0],\n",
       "       [  0,   0,   0,   0,   0,  27,   0, 912,   1,  60],\n",
       "       [  4,   0,   9,   8,   3,   1,   4,   3, 966,   2],\n",
       "       [  0,   0,   0,   0,   0,   8,   1,  17,   0, 974]], dtype=int64)"
      ]
     },
     "execution_count": 11,
     "metadata": {},
     "output_type": "execute_result"
    }
   ],
   "source": [
    "#confusion matrix\n",
    "pred = model.predict_on_batch(X_test)\n",
    "pred = np.argmax(pred, axis=-1)\n",
    "me.confusion_matrix(y_test, pred)"
   ]
  },
  {
   "cell_type": "code",
   "execution_count": null,
   "id": "olive-pendant",
   "metadata": {},
   "outputs": [],
   "source": []
  }
 ],
 "metadata": {
  "kernelspec": {
   "display_name": "Python 3",
   "language": "python",
   "name": "python3"
  },
  "language_info": {
   "codemirror_mode": {
    "name": "ipython",
    "version": 3
   },
   "file_extension": ".py",
   "mimetype": "text/x-python",
   "name": "python",
   "nbconvert_exporter": "python",
   "pygments_lexer": "ipython3",
   "version": "3.9.1"
  }
 },
 "nbformat": 4,
 "nbformat_minor": 5
}
