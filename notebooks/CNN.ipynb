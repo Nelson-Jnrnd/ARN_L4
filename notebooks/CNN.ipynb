{
 "cells": [
  {
   "cell_type": "markdown",
   "metadata": {
    "id": "HkLUJVa1bfNW"
   },
   "source": [
    "# Convolutional Neural Networks\n",
    "This notebook will guide you through the use of the `keras` package to train convolutional neural networks for handwritten digits classification. You are going to use the `mnist` dataset from LeCun et al. 1998."
   ]
  },
  {
   "cell_type": "markdown",
   "metadata": {
    "id": "SjQUQygFbfNb"
   },
   "source": [
    "## Loading the packages"
   ]
  },
  {
   "cell_type": "code",
   "execution_count": 79,
   "metadata": {
    "id": "h7O8MewabfNj"
   },
   "outputs": [
    {
     "name": "stdout",
     "output_type": "stream",
     "text": [
      "Requirement already satisfied: tensorflow in c:\\users\\teges\\miniconda3\\lib\\site-packages (2.8.0)Note: you may need to restart the kernel to use updated packages.\n",
      "\n",
      "Requirement already satisfied: termcolor>=1.1.0 in c:\\users\\teges\\miniconda3\\lib\\site-packages (from tensorflow) (1.1.0)\n",
      "Requirement already satisfied: protobuf>=3.9.2 in c:\\users\\teges\\miniconda3\\lib\\site-packages (from tensorflow) (3.20.1)\n",
      "Requirement already satisfied: astunparse>=1.6.0 in c:\\users\\teges\\miniconda3\\lib\\site-packages (from tensorflow) (1.6.3)\n",
      "Requirement already satisfied: google-pasta>=0.1.1 in c:\\users\\teges\\miniconda3\\lib\\site-packages (from tensorflow) (0.2.0)\n",
      "Requirement already satisfied: libclang>=9.0.1 in c:\\users\\teges\\miniconda3\\lib\\site-packages (from tensorflow) (14.0.1)\n",
      "Requirement already satisfied: six>=1.12.0 in c:\\users\\teges\\miniconda3\\lib\\site-packages (from tensorflow) (1.15.0)\n",
      "Requirement already satisfied: tf-estimator-nightly==2.8.0.dev2021122109 in c:\\users\\teges\\miniconda3\\lib\\site-packages (from tensorflow) (2.8.0.dev2021122109)\n",
      "Requirement already satisfied: h5py>=2.9.0 in c:\\users\\teges\\miniconda3\\lib\\site-packages (from tensorflow) (3.6.0)\n",
      "Requirement already satisfied: numpy>=1.20 in c:\\users\\teges\\miniconda3\\lib\\site-packages (from tensorflow) (1.22.2)\n",
      "Requirement already satisfied: wrapt>=1.11.0 in c:\\users\\teges\\miniconda3\\lib\\site-packages (from tensorflow) (1.14.1)\n",
      "Requirement already satisfied: flatbuffers>=1.12 in c:\\users\\teges\\miniconda3\\lib\\site-packages (from tensorflow) (2.0)\n",
      "Requirement already satisfied: typing-extensions>=3.6.6 in c:\\users\\teges\\miniconda3\\lib\\site-packages (from tensorflow) (4.1.1)\n",
      "Requirement already satisfied: tensorflow-io-gcs-filesystem>=0.23.1 in c:\\users\\teges\\miniconda3\\lib\\site-packages (from tensorflow) (0.25.0)\n",
      "Requirement already satisfied: opt-einsum>=2.3.2 in c:\\users\\teges\\miniconda3\\lib\\site-packages (from tensorflow) (3.3.0)\n",
      "Requirement already satisfied: keras<2.9,>=2.8.0rc0 in c:\\users\\teges\\miniconda3\\lib\\site-packages (from tensorflow) (2.8.0)\n",
      "Requirement already satisfied: setuptools in c:\\users\\teges\\miniconda3\\lib\\site-packages (from tensorflow) (52.0.0.post20210125)\n",
      "Requirement already satisfied: absl-py>=0.4.0 in c:\\users\\teges\\miniconda3\\lib\\site-packages (from tensorflow) (1.0.0)\n",
      "Requirement already satisfied: gast>=0.2.1 in c:\\users\\teges\\miniconda3\\lib\\site-packages (from tensorflow) (0.5.3)\n",
      "Requirement already satisfied: grpcio<2.0,>=1.24.3 in c:\\users\\teges\\miniconda3\\lib\\site-packages (from tensorflow) (1.46.0)\n",
      "Requirement already satisfied: keras-preprocessing>=1.1.1 in c:\\users\\teges\\miniconda3\\lib\\site-packages (from tensorflow) (1.1.2)\n",
      "Requirement already satisfied: tensorboard<2.9,>=2.8 in c:\\users\\teges\\miniconda3\\lib\\site-packages (from tensorflow) (2.8.0)\n",
      "Requirement already satisfied: wheel<1.0,>=0.23.0 in c:\\users\\teges\\miniconda3\\lib\\site-packages (from astunparse>=1.6.0->tensorflow) (0.36.2)\n",
      "Requirement already satisfied: markdown>=2.6.8 in c:\\users\\teges\\miniconda3\\lib\\site-packages (from tensorboard<2.9,>=2.8->tensorflow) (3.3.7)\n",
      "Requirement already satisfied: requests<3,>=2.21.0 in c:\\users\\teges\\miniconda3\\lib\\site-packages (from tensorboard<2.9,>=2.8->tensorflow) (2.25.1)\n",
      "Requirement already satisfied: tensorboard-data-server<0.7.0,>=0.6.0 in c:\\users\\teges\\miniconda3\\lib\\site-packages (from tensorboard<2.9,>=2.8->tensorflow) (0.6.1)\n",
      "Requirement already satisfied: tensorboard-plugin-wit>=1.6.0 in c:\\users\\teges\\miniconda3\\lib\\site-packages (from tensorboard<2.9,>=2.8->tensorflow) (1.8.1)\n",
      "Requirement already satisfied: werkzeug>=0.11.15 in c:\\users\\teges\\miniconda3\\lib\\site-packages (from tensorboard<2.9,>=2.8->tensorflow) (2.1.2)\n",
      "Requirement already satisfied: google-auth-oauthlib<0.5,>=0.4.1 in c:\\users\\teges\\miniconda3\\lib\\site-packages (from tensorboard<2.9,>=2.8->tensorflow) (0.4.6)\n",
      "Requirement already satisfied: google-auth<3,>=1.6.3 in c:\\users\\teges\\miniconda3\\lib\\site-packages (from tensorboard<2.9,>=2.8->tensorflow) (2.6.6)\n",
      "Requirement already satisfied: rsa<5,>=3.1.4 in c:\\users\\teges\\miniconda3\\lib\\site-packages (from google-auth<3,>=1.6.3->tensorboard<2.9,>=2.8->tensorflow) (4.8)\n",
      "Requirement already satisfied: cachetools<6.0,>=2.0.0 in c:\\users\\teges\\miniconda3\\lib\\site-packages (from google-auth<3,>=1.6.3->tensorboard<2.9,>=2.8->tensorflow) (5.0.0)\n",
      "Requirement already satisfied: pyasn1-modules>=0.2.1 in c:\\users\\teges\\miniconda3\\lib\\site-packages (from google-auth<3,>=1.6.3->tensorboard<2.9,>=2.8->tensorflow) (0.2.8)\n",
      "Requirement already satisfied: requests-oauthlib>=0.7.0 in c:\\users\\teges\\miniconda3\\lib\\site-packages (from google-auth-oauthlib<0.5,>=0.4.1->tensorboard<2.9,>=2.8->tensorflow) (1.3.1)\n",
      "Requirement already satisfied: importlib-metadata>=4.4 in c:\\users\\teges\\miniconda3\\lib\\site-packages (from markdown>=2.6.8->tensorboard<2.9,>=2.8->tensorflow) (4.11.3)\n",
      "Requirement already satisfied: zipp>=0.5 in c:\\users\\teges\\miniconda3\\lib\\site-packages (from importlib-metadata>=4.4->markdown>=2.6.8->tensorboard<2.9,>=2.8->tensorflow) (3.7.0)\n",
      "Requirement already satisfied: pyasn1<0.5.0,>=0.4.6 in c:\\users\\teges\\miniconda3\\lib\\site-packages (from pyasn1-modules>=0.2.1->google-auth<3,>=1.6.3->tensorboard<2.9,>=2.8->tensorflow) (0.4.8)\n",
      "Requirement already satisfied: chardet<5,>=3.0.2 in c:\\users\\teges\\miniconda3\\lib\\site-packages (from requests<3,>=2.21.0->tensorboard<2.9,>=2.8->tensorflow) (4.0.0)\n",
      "Requirement already satisfied: certifi>=2017.4.17 in c:\\users\\teges\\miniconda3\\lib\\site-packages (from requests<3,>=2.21.0->tensorboard<2.9,>=2.8->tensorflow) (2021.10.8)\n",
      "Requirement already satisfied: urllib3<1.27,>=1.21.1 in c:\\users\\teges\\miniconda3\\lib\\site-packages (from requests<3,>=2.21.0->tensorboard<2.9,>=2.8->tensorflow) (1.26.3)\n",
      "Requirement already satisfied: idna<3,>=2.5 in c:\\users\\teges\\miniconda3\\lib\\site-packages (from requests<3,>=2.21.0->tensorboard<2.9,>=2.8->tensorflow) (2.10)\n",
      "Requirement already satisfied: oauthlib>=3.0.0 in c:\\users\\teges\\miniconda3\\lib\\site-packages (from requests-oauthlib>=0.7.0->google-auth-oauthlib<0.5,>=0.4.1->tensorboard<2.9,>=2.8->tensorflow) (3.2.0)\n",
      "Requirement already satisfied: keras in c:\\users\\teges\\miniconda3\\lib\\site-packages (2.8.0)\n",
      "Note: you may need to restart the kernel to use updated packages.\n"
     ]
    }
   ],
   "source": [
    "%pip install tensorflow --upgrade\n",
    "%pip install keras --upgrade\n",
    "\n",
    "import numpy as np\n",
    "from matplotlib import pyplot as pl\n",
    "\n",
    "from keras.datasets import mnist\n",
    "from keras.models import Model\n",
    "from keras.layers.core import Dense, Dropout, Flatten\n",
    "from tensorflow.keras.optimizers import RMSprop\n",
    "from tensorflow.keras.optimizers import Adam\n",
    "\n",
    "from keras.utils import np_utils\n",
    "from keras.layers.convolutional import Conv2D, MaxPooling2D\n",
    "from keras.layers import Input\n",
    "from sklearn import metrics as me\n",
    "from scipy import stats\n",
    "\n",
    "%matplotlib inline"
   ]
  },
  {
   "cell_type": "markdown",
   "metadata": {
    "id": "vbttXt8SbfOH"
   },
   "source": [
    "First, create some useful functions"
   ]
  },
  {
   "cell_type": "code",
   "execution_count": 80,
   "metadata": {
    "id": "jAR9jPgybfOO"
   },
   "outputs": [],
   "source": [
    "def build_grid_of_images(array):\n",
    "    assert len(array.shape) == 3\n",
    "    dim_0 = np.sqrt(array.shape[0])\n",
    "    assert dim_0.is_integer()\n",
    "    \n",
    "    temp_out = np.reshape(array, (dim_0, dim_0, array.shape[1], array.shape[2]))\n",
    "    temp_out = np.rollaxis(temp_out, 1, 3)\n",
    "    return np.reshape(temp_out, (dim_0*array.shape[1], dim_0*array.shape[2]))\n",
    "\n",
    "def plot_conv_layer_output(temp_out, title):\n",
    "    temp_to_plot = build_grid_of_images(temp_out)\n",
    "    pl.imshow(temp_to_plot, interpolation='nearest', cmap=pl.get_cmap('Greys'))\n",
    "    ax = pl.gca()\n",
    "    ax.set_xticks(np.arange(-0.5, temp_to_plot.shape[0]+0.5, temp_out.shape[1]))    \n",
    "    ax.set_yticks(np.arange(-0.5, temp_to_plot.shape[0]+0.5, temp_out.shape[2]))\n",
    "    pl.grid()\n",
    "    pl.tick_params(axis='both', which='both', bottom='off', top='off', left='off', right='off', labelbottom='off', labelleft='off')\n",
    "    pl.title(title)\n",
    "\n",
    "def plot_dense_layer_output(temp_out, title):\n",
    "    pl.bar(np.arange(temp_out.shape[1])-0.4, temp_out[0,:])\n",
    "    pl.xlim(-0.5, temp_out.shape[1])\n",
    "    pl.grid()\n",
    "    pl.title(title)"
   ]
  },
  {
   "cell_type": "markdown",
   "metadata": {
    "id": "3fVOW4jGbfOb"
   },
   "source": [
    "Load the `mnist` dataset and normalize in the range [0, 1]"
   ]
  },
  {
   "cell_type": "code",
   "execution_count": 81,
   "metadata": {
    "colab": {
     "base_uri": "https://localhost:8080/",
     "height": 85
    },
    "id": "2H2K3S4MbfOf",
    "outputId": "87306b90-6068-49ae-d1c2-5d5ea69927e2"
   },
   "outputs": [
    {
     "name": "stdout",
     "output_type": "stream",
     "text": [
      "60000 train samples\n",
      "10000 test samples\n"
     ]
    }
   ],
   "source": [
    "(X_train, y_train), (X_test, y_test) = mnist.load_data()\n",
    "\n",
    "n_train, height, width = X_train.shape\n",
    "n_test, _, _ = X_test.shape\n",
    "\n",
    "X_train = X_train.reshape(n_train, height, width, 1).astype('float32')\n",
    "X_test = X_test.reshape(n_test, height, width, 1).astype('float32')\n",
    "\n",
    "X_train /= 255.0\n",
    "X_test /= 255.0\n",
    "\n",
    "n_classes = 10\n",
    "\n",
    "print(n_train, 'train samples')\n",
    "print(n_test, 'test samples')\n",
    "\n",
    "# convert class vectors to binary class matrices\n",
    "Y_train = np_utils.to_categorical(y_train, n_classes)\n",
    "Y_test = np_utils.to_categorical(y_test, n_classes)\n"
   ]
  },
  {
   "cell_type": "markdown",
   "metadata": {
    "id": "2B-WNiQUbfOq"
   },
   "source": [
    "Create the CNN and show its architecture"
   ]
  },
  {
   "cell_type": "code",
   "execution_count": 82,
   "metadata": {
    "colab": {
     "base_uri": "https://localhost:8080/",
     "height": 493
    },
    "id": "yhOscSNPbfOt",
    "outputId": "6e1a0da0-e48f-4fd1-eb5c-dadacdad548a"
   },
   "outputs": [
    {
     "name": "stdout",
     "output_type": "stream",
     "text": [
      "Model: \"model_21\"\n",
      "_________________________________________________________________\n",
      " Layer (type)                Output Shape              Param #   \n",
      "=================================================================\n",
      " l0 (InputLayer)             [(None, 28, 28, 1)]       0         \n",
      "                                                                 \n",
      " l1 (Conv2D)                 (None, 28, 28, 9)         234       \n",
      "                                                                 \n",
      " l1_mp (MaxPooling2D)        (None, 14, 14, 9)         0         \n",
      "                                                                 \n",
      " l2 (Conv2D)                 (None, 14, 14, 9)         2034      \n",
      "                                                                 \n",
      " l2_mp (MaxPooling2D)        (None, 7, 7, 9)           0         \n",
      "                                                                 \n",
      " l3 (Conv2D)                 (None, 7, 7, 16)          1312      \n",
      "                                                                 \n",
      " l3_mp (MaxPooling2D)        (None, 3, 3, 16)          0         \n",
      "                                                                 \n",
      " dropout_12 (Dropout)        (None, 3, 3, 16)          0         \n",
      "                                                                 \n",
      " flat (Flatten)              (None, 144)               0         \n",
      "                                                                 \n",
      " l4 (Dense)                  (None, 25)                3625      \n",
      "                                                                 \n",
      " l5 (Dense)                  (None, 10)                260       \n",
      "                                                                 \n",
      "=================================================================\n",
      "Total params: 7,465\n",
      "Trainable params: 7,465\n",
      "Non-trainable params: 0\n",
      "_________________________________________________________________\n"
     ]
    }
   ],
   "source": [
    "l0 = Input(shape=(height, width, 1), name='l0')\n",
    "\n",
    "l1 = Conv2D(9, (5, 5), padding='same', activation='relu', name='l1')(l0)\n",
    "l1_mp = MaxPooling2D(pool_size=(2, 2), name='l1_mp')(l1)\n",
    "\n",
    "l2 = Conv2D(9, (5, 5), padding='same', activation='relu', name='l2')(l1_mp)\n",
    "l2_mp = MaxPooling2D(pool_size=(2, 2), name='l2_mp')(l2)\n",
    "\n",
    "l3 = Conv2D(16, (3, 3), padding='same', activation='relu', name='l3')(l2_mp)\n",
    "l3_mp = MaxPooling2D(pool_size=(2, 2), name='l3_mp')(l3)\n",
    "l5 = Dropout(0.5)(l3_mp)\n",
    "\n",
    "flat = Flatten(name='flat')(l5)\n",
    "\n",
    "l4 = Dense(25, activation='relu', name='l4')(flat)\n",
    "l5 = Dense(n_classes, activation='softmax', name='l5')(l4)\n",
    "\n",
    "model = Model(inputs=l0, outputs=l5)\n",
    "model.summary()"
   ]
  },
  {
   "cell_type": "markdown",
   "metadata": {
    "id": "sP_cugPCbfO6"
   },
   "source": [
    "Define some constants and train de CNN"
   ]
  },
  {
   "cell_type": "code",
   "execution_count": 83,
   "metadata": {
    "colab": {
     "base_uri": "https://localhost:8080/",
     "height": 374
    },
    "id": "l8eKqD80bfPB",
    "outputId": "bb20620f-70c6-4330-8c5f-d67cb5176464"
   },
   "outputs": [
    {
     "name": "stdout",
     "output_type": "stream",
     "text": [
      "Epoch 1/10\n",
      "469/469 [==============================] - 16s 34ms/step - loss: 0.7545 - accuracy: 0.7473 - val_loss: 0.1506 - val_accuracy: 0.9599\n",
      "Epoch 2/10\n",
      "469/469 [==============================] - 16s 35ms/step - loss: 0.2420 - accuracy: 0.9265 - val_loss: 0.1120 - val_accuracy: 0.9637\n",
      "Epoch 3/10\n",
      "469/469 [==============================] - 16s 34ms/step - loss: 0.1913 - accuracy: 0.9409 - val_loss: 0.0785 - val_accuracy: 0.9742\n",
      "Epoch 4/10\n",
      "469/469 [==============================] - 18s 39ms/step - loss: 0.1658 - accuracy: 0.9489 - val_loss: 0.0693 - val_accuracy: 0.9776\n",
      "Epoch 5/10\n",
      "469/469 [==============================] - 18s 38ms/step - loss: 0.1491 - accuracy: 0.9547 - val_loss: 0.0623 - val_accuracy: 0.9792\n",
      "Epoch 6/10\n",
      "469/469 [==============================] - 18s 38ms/step - loss: 0.1367 - accuracy: 0.9575 - val_loss: 0.0567 - val_accuracy: 0.9826\n",
      "Epoch 7/10\n",
      "469/469 [==============================] - 17s 37ms/step - loss: 0.1283 - accuracy: 0.9609 - val_loss: 0.0546 - val_accuracy: 0.9815\n",
      "Epoch 8/10\n",
      "469/469 [==============================] - 17s 35ms/step - loss: 0.1180 - accuracy: 0.9637 - val_loss: 0.0498 - val_accuracy: 0.9834\n",
      "Epoch 9/10\n",
      "469/469 [==============================] - 15s 33ms/step - loss: 0.1144 - accuracy: 0.9648 - val_loss: 0.0467 - val_accuracy: 0.9827\n",
      "Epoch 10/10\n",
      "469/469 [==============================] - 17s 35ms/step - loss: 0.1085 - accuracy: 0.9668 - val_loss: 0.0420 - val_accuracy: 0.9852\n"
     ]
    }
   ],
   "source": [
    "batch_size = 128\n",
    "n_epoch = 10\n",
    "\n",
    "model.compile(loss='categorical_crossentropy', optimizer=Adam(), metrics=['accuracy'])\n",
    "history = model.fit(X_train, Y_train, batch_size=batch_size, epochs=n_epoch, verbose=1, validation_data=(X_test, Y_test))"
   ]
  },
  {
   "cell_type": "markdown",
   "metadata": {
    "id": "IBX2Tc_0bfPK"
   },
   "source": [
    "Show the performance of the model"
   ]
  },
  {
   "cell_type": "code",
   "execution_count": 84,
   "metadata": {
    "colab": {
     "base_uri": "https://localhost:8080/",
     "height": 299
    },
    "id": "WeaMjl-EbfPS",
    "outputId": "e219b778-8eb2-4fd9-a2f5-baaa3d936a3f"
   },
   "outputs": [
    {
     "name": "stdout",
     "output_type": "stream",
     "text": [
      "Test score: 0.04196002334356308\n",
      "Test accuracy: 0.9851999878883362\n"
     ]
    },
    {
     "data": {
      "image/png": "[encoded data removed]",
      "text/plain": [
       "<Figure size 432x288 with 1 Axes>"
      ]
     },
     "metadata": {
      "needs_background": "light"
     },
     "output_type": "display_data"
    }
   ],
   "source": [
    "pl.plot(history.history['loss'], label='Training')\n",
    "pl.plot(history.history['val_loss'], label='Testing')\n",
    "pl.legend()\n",
    "pl.grid()\n",
    "\n",
    "score = model.evaluate(X_test, Y_test, verbose=0)\n",
    "print('Test score:', score[0])\n",
    "print('Test accuracy:', score[1])\n",
    "\n"
   ]
  },
  {
   "cell_type": "code",
   "execution_count": 85,
   "metadata": {},
   "outputs": [
    {
     "data": {
      "image/png": "[encoded data removed]",
      "text/plain": [
       "<Figure size 432x288 with 1 Axes>"
      ]
     },
     "metadata": {
      "needs_background": "light"
     },
     "output_type": "display_data"
    }
   ],
   "source": [
    "def plot_graph(history, optimName, batch_size, n_epoch, testScore, testAccuracy, drop):\n",
    "    pl.clf()\n",
    "    pl.plot(history.history['loss'], label='Training')\n",
    "    pl.plot(history.history['val_loss'], label='Testing')\n",
    "    pl.ylabel('loss')\n",
    "    pl.xlabel('Number of epochs')\n",
    "    pl.suptitle(optimName+' Batch size:'+str(batch_size)+' Nb epochs:'+str(n_epoch))\n",
    "    pl.legend()\n",
    "    pl.title('Test score:' + str(round(testScore,3)) + ', Test accuracy: '  + str(round(testAccuracy,3)) + '_Dropout_'+ ('None' if drop < 0 else str(drop)))\n",
    "    pl.grid()\n",
    "    pl.savefig('../outPutCNN/' + optimName+'_Batch_size'+str(batch_size)+' Nb_epochs'+str(n_epoch)+ '_Dropout_'+ ('None' if drop < 0 else str(drop)) + '.png', dpi=500)\n",
    "    \n",
    "plot_graph(history,'Adam', batch_size, n_epoch,score[0],score[1],0.5)"
   ]
  },
  {
   "cell_type": "markdown",
   "metadata": {
    "id": "rXNZ2ZHSbfPm"
   },
   "source": [
    "Confusion matrix"
   ]
  },
  {
   "cell_type": "code",
   "execution_count": 86,
   "metadata": {
    "colab": {
     "base_uri": "https://localhost:8080/",
     "height": 187
    },
    "id": "XfgRipFebfPm",
    "outputId": "b435b340-a409-423f-bd5a-d989f6f76a8a"
   },
   "outputs": [
    {
     "data": {
      "text/plain": [
       "array([[ 966,    0,    2,    1,    0,    2,    6,    1,    2,    0],\n",
       "       [   0, 1122,    3,    0,    1,    2,    2,    3,    2,    0],\n",
       "       [   2,    1, 1026,    0,    0,    0,    1,    1,    1,    0],\n",
       "       [   0,    0,    0, 1004,    0,    3,    0,    1,    2,    0],\n",
       "       [   0,    0,    1,    0,  959,    0,    6,    0,    0,   16],\n",
       "       [   0,    0,    0,    7,    0,  881,    1,    1,    1,    1],\n",
       "       [   2,    2,    1,    0,    1,    4,  946,    0,    2,    0],\n",
       "       [   0,    1,    9,    2,    0,    0,    0, 1004,    2,   10],\n",
       "       [   1,    0,    2,    0,    0,    5,    1,    2,  958,    5],\n",
       "       [   2,    1,    1,    3,    6,    2,    0,    4,    4,  986]],\n",
       "      dtype=int64)"
      ]
     },
     "execution_count": 86,
     "metadata": {},
     "output_type": "execute_result"
    }
   ],
   "source": [
    "pred = model.predict_on_batch(X_test)\n",
    "pred = np.argmax(pred, axis=-1)\n",
    "me.confusion_matrix(y_test, pred)"
   ]
  },
  {
   "cell_type": "code",
   "execution_count": null,
   "metadata": {},
   "outputs": [],
   "source": []
  }
 ],
 "metadata": {
  "accelerator": "GPU",
  "colab": {
   "collapsed_sections": [],
   "name": "CNN.ipynb",
   "provenance": []
  },
  "kernelspec": {
   "display_name": "Python 3",
   "language": "python",
   "name": "python3"
  },
  "language_info": {
   "codemirror_mode": {
    "name": "ipython",
    "version": 3
   },
   "file_extension": ".py",
   "mimetype": "text/x-python",
   "name": "python",
   "nbconvert_exporter": "python",
   "pygments_lexer": "ipython3",
   "version": "3.9.1"
  }
 },
 "nbformat": 4,
 "nbformat_minor": 1
}
